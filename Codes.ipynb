{
 "cells": [
  {
   "cell_type": "markdown",
   "metadata": {},
   "source": [
    "# 判断任意一个数是否是2的n次方"
   ]
  },
  {
   "cell_type": "code",
   "execution_count": 2,
   "metadata": {},
   "outputs": [
    {
     "name": "stdout",
     "output_type": "stream",
     "text": [
      "True\n",
      "True\n",
      "False\n"
     ]
    }
   ],
   "source": [
    "def is_pow2(n):\n",
    "    return (n & (n-1)) == 0\n",
    "\n",
    "print(is_pow2(16))\n",
    "print(is_pow2(32))\n",
    "print(is_pow2(33))"
   ]
  },
  {
   "cell_type": "markdown",
   "metadata": {},
   "source": [
    "# 按单词翻转字符串\n",
    "\n",
    "- 要求：把一个字符串**按单词**翻转，且同时保留所有空格（面试中的常见问题）。\n",
    "- 思路：先把字符串中的每个单词翻转，然后再把整个字符串翻转。\n",
    "- 备注：如果使用`split()`方法，则无法处理对空格的要求。"
   ]
  },
  {
   "cell_type": "code",
   "execution_count": 3,
   "metadata": {},
   "outputs": [
    {
     "name": "stdout",
     "output_type": "stream",
     "text": [
      "    Fine.    you? are how Hello,  \n"
     ]
    }
   ],
   "source": [
    "setence = '  Hello, how are you?    Fine.    '\n",
    "\n",
    "\n",
    "# 定一个辅助函数\n",
    "def reverse(str_list, start, end):\n",
    "    while start < end:\n",
    "        str_list[start], str_list[end] = str_list[end], str_list[start]\n",
    "        start += 1\n",
    "        end -= 1\n",
    "\n",
    "\n",
    "str_list = list(setence)\n",
    "i = 0\n",
    "\n",
    "while i < len(str_list):\n",
    "    if str_list[i] != ' ':\n",
    "        start = i\n",
    "        end = start + 1\n",
    "        while (end < len(str_list)) and str_list[end] != ' ':\n",
    "            end += 1\n",
    "        reverse(str_list, start, end - 1)\n",
    "        i = end\n",
    "    else:\n",
    "        i += 1\n",
    "\n",
    "str_list.reverse()\n",
    "print(''.join(str_list))"
   ]
  },
  {
   "cell_type": "markdown",
   "metadata": {},
   "source": [
    "# 计算效率的比较\n",
    "\n",
    "以求和计算为例，比较Python中不同方法（求和算法和数据类型）的计算效率。可以看出，利用`numpy`库中的`sum()`函数对`numpy`库中的`array`数据类型进行求和，计算效率会得到大幅度提高。"
   ]
  },
  {
   "cell_type": "code",
   "execution_count": 6,
   "metadata": {},
   "outputs": [
    {
     "name": "stdout",
     "output_type": "stream",
     "text": [
      "list result:\n",
      "0.5894235460000345\n",
      "0.058507419998932164\n",
      "0.763534661004087\n",
      "\n",
      "array result:\n",
      "0.6543880899989745\n",
      "0.09297981599956984\n",
      "0.01018425400252454\n",
      "\n",
      "numpy result:\n",
      "1.4129915060038911\n",
      "1.09279834300105\n",
      "0.008055423000769224\n",
      "\n"
     ]
    }
   ],
   "source": [
    "import timeit\n",
    "\n",
    "# 利用for循环求和\n",
    "sum_by_for = \"\"\"\n",
    "for d in data:\n",
    "    s += d\n",
    "\"\"\"\n",
    "\n",
    "# 利用Python自带的sum()函数求和\n",
    "sum_by_sum = \"\"\"\n",
    "sum(data)\n",
    "\"\"\"\n",
    "\n",
    "# 利用numpy库中的sum()函数求和\n",
    "sum_by_numpy_sum = \"\"\"\n",
    "import numpy\n",
    "numpy.sum(data)\n",
    "\"\"\"\n",
    "\n",
    "\n",
    "# 对list数据类型求和\n",
    "def timeit_using_list(n, loops):\n",
    "    # n为从1加到几\n",
    "    # loops为循环次数\n",
    "    list_setup = \"\"\"\n",
    "data = [1] * {}\n",
    "s = 0\n",
    "\"\"\".format(n)\n",
    "    print('list result:')\n",
    "    print(timeit.timeit(sum_by_for, list_setup, number=loops))\n",
    "    print(timeit.timeit(sum_by_sum, list_setup, number=loops))\n",
    "    print(timeit.timeit(sum_by_numpy_sum, list_setup, number=loops))\n",
    "    print()\n",
    "\n",
    "\n",
    "# 对array数据类型求和\n",
    "def timeit_using_array(n, loops):\n",
    "    # n为从1加到几\n",
    "    # loops为循环次数\n",
    "    array_setup = \"\"\"\n",
    "import array\n",
    "data = array.array('L', [1] * {})\n",
    "s = 0\n",
    "\"\"\".format(n)\n",
    "    print('array result:')\n",
    "    print(timeit.timeit(sum_by_for, array_setup, number=loops))\n",
    "    print(timeit.timeit(sum_by_sum, array_setup, number=loops))\n",
    "    print(timeit.timeit(sum_by_numpy_sum, array_setup, number=loops))\n",
    "    print()\n",
    "\n",
    "\n",
    "# 对numpy数据类型求和\n",
    "def timeit_using_numpy(n, loops):\n",
    "    # n为从1加到几\n",
    "    # loops为循环次数\n",
    "    numpy_setup = \"\"\"\n",
    "import numpy\n",
    "data = numpy.array([1] * {})\n",
    "s = 0\n",
    "\"\"\".format(n)\n",
    "    print('numpy result:')\n",
    "    print(timeit.timeit(sum_by_for, numpy_setup, number=loops))\n",
    "    print(timeit.timeit(sum_by_sum, numpy_setup, number=loops))\n",
    "    print(timeit.timeit(sum_by_numpy_sum, numpy_setup, number=loops))\n",
    "    print()\n",
    "\n",
    "\n",
    "if __name__ == '__main__':\n",
    "    timeit_using_list(30000, 500)\n",
    "    timeit_using_array(30000, 500)\n",
    "    timeit_using_numpy(30000, 500)\n"
   ]
  },
  {
   "cell_type": "code",
   "execution_count": null,
   "metadata": {},
   "outputs": [],
   "source": []
  }
 ],
 "metadata": {
  "kernelspec": {
   "display_name": "Python 3",
   "language": "python",
   "name": "python3"
  },
  "language_info": {
   "codemirror_mode": {
    "name": "ipython",
    "version": 3
   },
   "file_extension": ".py",
   "mimetype": "text/x-python",
   "name": "python",
   "nbconvert_exporter": "python",
   "pygments_lexer": "ipython3",
   "version": "3.6.4"
  },
  "toc": {
   "base_numbering": 1,
   "nav_menu": {},
   "number_sections": true,
   "sideBar": true,
   "skip_h1_title": false,
   "title_cell": "Table of Contents",
   "title_sidebar": "Contents",
   "toc_cell": false,
   "toc_position": {},
   "toc_section_display": true,
   "toc_window_display": true
  }
 },
 "nbformat": 4,
 "nbformat_minor": 2
}
