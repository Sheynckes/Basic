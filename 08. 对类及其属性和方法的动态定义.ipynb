{
 "cells": [
  {
   "cell_type": "markdown",
   "metadata": {},
   "source": [
    "# 利用`__slots__`限制对实例动态添加的属性和方法\n",
    "\n",
    "Python是一门动态语言，即类的属性可以动态添加。在定义一个类的时候，可以定义一些属性和方法；在对类进行实例化后，也可以为这些实例添加属性和方法，但对实例添加的属性和方法只对这个实例有效，其他实例则无法访问。"
   ]
  },
  {
   "cell_type": "code",
   "execution_count": 25,
   "metadata": {},
   "outputs": [
    {
     "name": "stdout",
     "output_type": "stream",
     "text": [
      "Tom\n",
      "Jerry\n"
     ]
    }
   ],
   "source": [
    "import traceback                # 处理异常的时候，可以使用traceback打印相关信息\n",
    "from types import MethodType\n",
    "\n",
    "class MyClass(object):\n",
    "    pass\n",
    "\n",
    "def set_name(self, name):\n",
    "    self.name = name\n",
    "\n",
    "# 实例化\n",
    "cls1 = MyClass()\n",
    "# 动态添加属性\n",
    "cls1.name = 'Tom'\n",
    "print(cls1.name)\n",
    "# 动态添加方法\n",
    "cls1.set_name = MethodType(set_name, cls1)\n",
    "cls1.set_name('Jerry')\n",
    "print(cls1.name)"
   ]
  },
  {
   "cell_type": "code",
   "execution_count": 26,
   "metadata": {},
   "outputs": [
    {
     "ename": "AttributeError",
     "evalue": "'MyClass' object has no attribute 'name'",
     "output_type": "error",
     "traceback": [
      "\u001b[0;31m---------------------------------------------------------------------------\u001b[0m",
      "\u001b[0;31mAttributeError\u001b[0m                            Traceback (most recent call last)",
      "\u001b[0;32m<ipython-input-26-a9210b575ac9>\u001b[0m in \u001b[0;36m<module>\u001b[0;34m()\u001b[0m\n\u001b[1;32m      1\u001b[0m \u001b[0;31m# 新的实例无法访问name属性和set_name()方法\u001b[0m\u001b[0;34m\u001b[0m\u001b[0;34m\u001b[0m\u001b[0m\n\u001b[1;32m      2\u001b[0m \u001b[0mcls2\u001b[0m \u001b[0;34m=\u001b[0m \u001b[0mMyClass\u001b[0m\u001b[0;34m(\u001b[0m\u001b[0;34m)\u001b[0m\u001b[0;34m\u001b[0m\u001b[0m\n\u001b[0;32m----> 3\u001b[0;31m \u001b[0mcls2\u001b[0m\u001b[0;34m.\u001b[0m\u001b[0mname\u001b[0m\u001b[0;34m\u001b[0m\u001b[0m\n\u001b[0m",
      "\u001b[0;31mAttributeError\u001b[0m: 'MyClass' object has no attribute 'name'"
     ]
    }
   ],
   "source": [
    "# 新的实例无法访问name属性和set_name()方法\n",
    "cls2 = MyClass()\n",
    "cls2.name"
   ]
  },
  {
   "cell_type": "code",
   "execution_count": 27,
   "metadata": {},
   "outputs": [
    {
     "ename": "AttributeError",
     "evalue": "'MyClass' object has no attribute 'set_name'",
     "output_type": "error",
     "traceback": [
      "\u001b[0;31m---------------------------------------------------------------------------\u001b[0m",
      "\u001b[0;31mAttributeError\u001b[0m                            Traceback (most recent call last)",
      "\u001b[0;32m<ipython-input-27-12544e9308d8>\u001b[0m in \u001b[0;36m<module>\u001b[0;34m()\u001b[0m\n\u001b[0;32m----> 1\u001b[0;31m \u001b[0mcls2\u001b[0m\u001b[0;34m.\u001b[0m\u001b[0mset_name\u001b[0m\u001b[0;34m(\u001b[0m\u001b[0;34m'Sean'\u001b[0m\u001b[0;34m)\u001b[0m\u001b[0;34m\u001b[0m\u001b[0m\n\u001b[0m",
      "\u001b[0;31mAttributeError\u001b[0m: 'MyClass' object has no attribute 'set_name'"
     ]
    }
   ],
   "source": [
    "cls2.set_name('Sean')"
   ]
  },
  {
   "cell_type": "markdown",
   "metadata": {},
   "source": [
    "如果在定义一个新的类的时候，可以利用`__slots__`对后续通过实例动态添加的属性和方法进行限制。实际应用中可以防止用户对程序添加意外的不需要的属性或方法。"
   ]
  },
  {
   "cell_type": "code",
   "execution_count": 28,
   "metadata": {},
   "outputs": [
    {
     "name": "stdout",
     "output_type": "stream",
     "text": [
      "Tom\n",
      "Jerry\n"
     ]
    },
    {
     "name": "stderr",
     "output_type": "stream",
     "text": [
      "Traceback (most recent call last):\n",
      "  File \"<ipython-input-28-ad86a9a831f1>\", line 23, in <module>\n",
      "    cls1.age = 30\n",
      "AttributeError: 'MyClass' object has no attribute 'age'\n"
     ]
    }
   ],
   "source": [
    "import traceback                # 处理异常的时候，可以使用traceback打印相关信息\n",
    "from types import MethodType\n",
    "\n",
    "class MyClass(object):\n",
    "# 只能动态添加名为name或set_name的属性或方法\n",
    "    __slots__ = ['name', 'set_name']\n",
    "\n",
    "def set_name(self, name):\n",
    "    self.name = name\n",
    "\n",
    "# 实例化\n",
    "cls1 = MyClass()\n",
    "# 动态添加属性\n",
    "cls1.name = 'Tom'\n",
    "print(cls1.name)\n",
    "# 动态添加方法\n",
    "cls1.set_name = MethodType(set_name, cls1)\n",
    "cls1.set_name('Jerry')\n",
    "print(cls1.name)\n",
    "\n",
    "# 动态添加age属性就会报错\n",
    "try:\n",
    "    cls1.age = 30\n",
    "except AttributeError:\n",
    "    traceback.print_exc()"
   ]
  },
  {
   "cell_type": "markdown",
   "metadata": {},
   "source": [
    "`__slots__`只对当前类的实例起作用，而对继承的子类的实例是不起作用的。"
   ]
  },
  {
   "cell_type": "code",
   "execution_count": 29,
   "metadata": {},
   "outputs": [
    {
     "name": "stdout",
     "output_type": "stream",
     "text": [
      "30\n"
     ]
    }
   ],
   "source": [
    "# MyClass类中的__slots__对其子类ExtMyClass是不起作用的。\n",
    "\n",
    "class ExtMyClass(MyClass):\n",
    "    pass\n",
    "\n",
    "ext_cls = ExtMyClass()\n",
    "ext_cls.age = 30\n",
    "print(ext_cls.age)"
   ]
  },
  {
   "cell_type": "markdown",
   "metadata": {},
   "source": [
    "# 利用`type()`函数动态创建一个类"
   ]
  },
  {
   "cell_type": "code",
   "execution_count": 3,
   "metadata": {},
   "outputs": [
    {
     "name": "stdout",
     "output_type": "stream",
     "text": [
      "Hello, Tom!\n"
     ]
    }
   ],
   "source": [
    "def init(self, name):\n",
    "    self.name = name\n",
    "    \n",
    "def say_hello(self):\n",
    "    print('Hello, %s!' % self.name)\n",
    "    \n",
    "Hello = type('Hello', (object,), dict(__init__=init, hello=say_hello))\n",
    "# 第一个参数：类的名字\n",
    "# 第二个参数：继承自哪些类（元组）\n",
    "# 第三个参数：属性及方法（字典）\n",
    "\n",
    "h = Hello('Tom')\n",
    "h.hello()"
   ]
  },
  {
   "cell_type": "markdown",
   "metadata": {},
   "source": [
    "# 利用元类控制类的构造方式\n",
    "\n",
    "通过修改元类中`__new__()`函数中的`attrs`参数来控制类中的属性和方法。 元类都是继承自`type`的。\n",
    "\n",
    "以下代码构造一个继承自`list`的类`MyList`，并通过元类为其中添加一个`add()`方法，该方法实际上等同于`append()`。"
   ]
  },
  {
   "cell_type": "code",
   "execution_count": 9,
   "metadata": {},
   "outputs": [
    {
     "name": "stdout",
     "output_type": "stream",
     "text": [
      "[1, 2, 3]\n"
     ]
    }
   ],
   "source": [
    "# 方法1\n",
    "\n",
    "# 定义元类\n",
    "class ListMetaclass(type):\n",
    "    def __new__(cls, name, bases, attrs):\n",
    "        # print(cls)\n",
    "        # print(name)\n",
    "        # print(bases)\n",
    "        # print(attrs)\n",
    "        attrs['add'] = lambda self, value: self.append(value)\n",
    "        return type.__new__(cls, name, bases, attrs)\n",
    "\n",
    "class MyList(list, metaclass=ListMetaclass):\n",
    "    pass\n",
    "\n",
    "my_li = MyList()\n",
    "my_li.add(1)\n",
    "my_li.add(2)\n",
    "my_li.add(3)\n",
    "print(my_li)"
   ]
  },
  {
   "cell_type": "code",
   "execution_count": 10,
   "metadata": {},
   "outputs": [
    {
     "name": "stdout",
     "output_type": "stream",
     "text": [
      "[1, 2, 3]\n"
     ]
    }
   ],
   "source": [
    "# 方法2\n",
    "\n",
    "# 定义add()方法\n",
    "def add(self, value):\n",
    "    return self.append(value)\n",
    "\n",
    "# 定义元类\n",
    "class ListMetaclass(type):\n",
    "    def __new__(cls, name, bases, attrs):\n",
    "        # print(cls)\n",
    "        # print(name)\n",
    "        # print(bases)\n",
    "        # print(attrs)\n",
    "        attrs['add'] = add\n",
    "        return type.__new__(cls, name, bases, attrs)\n",
    "\n",
    "class MyList(list, metaclass=ListMetaclass):\n",
    "    pass\n",
    "\n",
    "my_li = MyList()\n",
    "my_li.add(1)\n",
    "my_li.add(2)\n",
    "my_li.add(3)\n",
    "print(my_li)"
   ]
  },
  {
   "cell_type": "code",
   "execution_count": 11,
   "metadata": {},
   "outputs": [
    {
     "name": "stdout",
     "output_type": "stream",
     "text": [
      "[1, 2, 3]\n",
      "Tom\n"
     ]
    }
   ],
   "source": [
    "# 也可以添加属性\n",
    "\n",
    "# 定义add()方法\n",
    "def add(self, value):\n",
    "    return self.append(value)\n",
    "\n",
    "# 定义元类\n",
    "class ListMetaclass(type):\n",
    "    def __new__(cls, name, bases, attrs):\n",
    "        # print(cls)\n",
    "        # print(name)\n",
    "        # print(bases)\n",
    "        # print(attrs)\n",
    "        attrs['add'] = add\n",
    "        attrs['name'] = 'Tom'\n",
    "        return type.__new__(cls, name, bases, attrs)\n",
    "\n",
    "class MyList(list, metaclass=ListMetaclass):\n",
    "    pass\n",
    "\n",
    "my_li = MyList()\n",
    "my_li.add(1)\n",
    "my_li.add(2)\n",
    "my_li.add(3)\n",
    "print(my_li)\n",
    "print(my_li.name)"
   ]
  },
  {
   "cell_type": "markdown",
   "metadata": {},
   "source": [
    "# 利用元类实现一个简单的数据库\n",
    "\n",
    "利用元类实现一个简单的数据库，并实现`save()`函数。"
   ]
  },
  {
   "cell_type": "code",
   "execution_count": 24,
   "metadata": {},
   "outputs": [
    {
     "name": "stdout",
     "output_type": "stream",
     "text": [
      "Model name: User\n",
      "Field name: Id\n",
      "Field name: name\n",
      "Id\n",
      "id\n",
      "name\n",
      "name\n",
      "sql:  insert into User(id,name) values(?,?)\n",
      "args:  [100, 'Tom']\n"
     ]
    }
   ],
   "source": [
    "class Field(object):\n",
    "    def __init__(self, name, col_type):\n",
    "        self.name = name\n",
    "        self.col_type = col_type\n",
    "        \n",
    "class IntegerField(Field):\n",
    "    def __init__(self, name):\n",
    "        super(IntegerField, self).__init__(name, 'integer')\n",
    "        \n",
    "class StringField(Field):\n",
    "    def __init__(self, name):\n",
    "        super(StringField, self).__init__(name, 'varchar(1024)')\n",
    "        \n",
    "        \n",
    "class ModelMetaclass(type):\n",
    "    def __new__(cls, name, bases, attrs):\n",
    "        if name == 'Model':\n",
    "            return type.__new__(cls, name, bases, attrs)\n",
    "        print('Model name: %s' % name)\n",
    "        mappings = {}\n",
    "        for k, v in attrs.items():\n",
    "            if isinstance(v, Field):\n",
    "                print('Field name: %s' % k)\n",
    "                mappings[k] = v\n",
    "        for k in mappings.keys():\n",
    "            attrs.pop(k)\n",
    "        attrs['__mappings__'] = mappings\n",
    "        attrs['__table__'] = name\n",
    "        return type.__new__(cls, name, bases, attrs)\n",
    "    \n",
    "\n",
    "class Model(dict, metaclass=ModelMetaclass):\n",
    "    def __init__(self, **kvs):\n",
    "        super(Model, self).__init__(**kvs)\n",
    "        \n",
    "    def __getattr__(self, key):\n",
    "        try:\n",
    "            return self[key]\n",
    "        except KeyError:\n",
    "            raise AttributeError(\"'Model' object has no attribute '%s'.\" % key)\n",
    "            \n",
    "    def __setattr__(self, key, value):\n",
    "        self[key] = value\n",
    "        \n",
    "    def save(self):\n",
    "        fields = []\n",
    "        params = []\n",
    "        args = []\n",
    "        for k, v in self.__mappings__.items():\n",
    "            fields.append(v.name)\n",
    "            params.append('?')\n",
    "            args.append(getattr(self, k, None))\n",
    "        sql = 'insert into %s(%s) values(%s)' % (self.__table__, ','.join(fields), ','.join(params))\n",
    "        print('sql: ', sql)\n",
    "        print('args: ', args)\n",
    "    \n",
    "\n",
    "\n",
    "class User(Model):\n",
    "    Id = IntegerField('id')\n",
    "    name = StringField('name')\n",
    "    \n",
    "u = User()\n",
    "u.Id = 100\n",
    "u.name = 'Tom'\n",
    "u.save()"
   ]
  },
  {
   "cell_type": "code",
   "execution_count": null,
   "metadata": {},
   "outputs": [],
   "source": []
  }
 ],
 "metadata": {
  "kernelspec": {
   "display_name": "Python 3",
   "language": "python",
   "name": "python3"
  },
  "language_info": {
   "codemirror_mode": {
    "name": "ipython",
    "version": 3
   },
   "file_extension": ".py",
   "mimetype": "text/x-python",
   "name": "python",
   "nbconvert_exporter": "python",
   "pygments_lexer": "ipython3",
   "version": "3.6.4"
  }
 },
 "nbformat": 4,
 "nbformat_minor": 2
}
