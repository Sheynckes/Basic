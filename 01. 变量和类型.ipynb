{
 "cells": [
  {
   "cell_type": "markdown",
   "metadata": {},
   "source": [
    "# 基本变量类型\n",
    "\n",
    "- 整数\n",
    "- 浮点数\n",
    "- 字符串\n",
    "- 布尔值\n",
    "- 空值\n",
    "- 函数\n",
    "- 模块\n",
    "- 类型*\n",
    "- 自定义类型\n",
    "\n",
    "Python中的所有对象都是继承自object的类。"
   ]
  },
  {
   "cell_type": "markdown",
   "metadata": {},
   "source": [
    "## 查看类型\n",
    "\n",
    "查看类型很重要，尤其是在使用第三方库的时候，文档中介绍的不清楚，就需要查看类型。"
   ]
  },
  {
   "cell_type": "code",
   "execution_count": 2,
   "metadata": {},
   "outputs": [
    {
     "name": "stdout",
     "output_type": "stream",
     "text": [
      "<class 'int'>\n",
      "<class 'float'>\n",
      "<class 'float'>\n",
      "<class 'str'>\n"
     ]
    }
   ],
   "source": [
    "# 简单类型\n",
    "\n",
    "print(type(1234))\n",
    "print(type(123.45))\n",
    "print(type(123.))    # 对于浮点数类型，小数部分可以省略，但要保留小数点\n",
    "print(type('abc'))"
   ]
  },
  {
   "cell_type": "code",
   "execution_count": 3,
   "metadata": {},
   "outputs": [
    {
     "name": "stdout",
     "output_type": "stream",
     "text": [
      "<class 'list'>\n",
      "<class 'tuple'>\n",
      "<class 'set'>\n",
      "<class 'dict'>\n"
     ]
    }
   ],
   "source": [
    "# 复杂类型——Python中的容器\n",
    "\n",
    "print(type([1, 2, 3, 'a', 'b']))    # 列表\n",
    "print(type((1, 'abc')))             # 元组\n",
    "print(type(set(['a', 'b', 3])))     # 集合\n",
    "print(type({'a': 1, 'b': 2}))       # 字典"
   ]
  },
  {
   "cell_type": "code",
   "execution_count": 6,
   "metadata": {},
   "outputs": [
    {
     "name": "stdout",
     "output_type": "stream",
     "text": [
      "<class 'function'>\n",
      "<class 'function'>\n"
     ]
    }
   ],
   "source": [
    "# Python中的函数也是一个对象\n",
    "\n",
    "def func(a, b, c):\n",
    "    print(a, b, c)\n",
    "\n",
    "print(type(func))\n",
    "\n",
    "f = func            # 函数和普通变量是一样的\n",
    "print(type(f))"
   ]
  },
  {
   "cell_type": "code",
   "execution_count": 7,
   "metadata": {},
   "outputs": [
    {
     "name": "stdout",
     "output_type": "stream",
     "text": [
      "<class 'module'>\n"
     ]
    }
   ],
   "source": [
    "# 模块也有一个对应的类型\n",
    "\n",
    "import string\n",
    "\n",
    "print(type(string))"
   ]
  },
  {
   "cell_type": "code",
   "execution_count": 9,
   "metadata": {},
   "outputs": [
    {
     "name": "stdout",
     "output_type": "stream",
     "text": [
      "<class 'type'>\n",
      "<class '__main__.MyClass'>\n"
     ]
    }
   ],
   "source": [
    "# 类及其实例的类型\n",
    "# 类的类型是type，type是用来描述类型的类型\n",
    "\n",
    "class MyClass(object):\n",
    "    pass\n",
    "\n",
    "print(type(MyClass))\n",
    "\n",
    "my_class = MyClass()\n",
    "print(type(my_class))"
   ]
  },
  {
   "cell_type": "markdown",
   "metadata": {},
   "source": [
    "## 变量的定义和赋值\n",
    "\n",
    "Python中的变量是不需要声明类型的，给变量附一个什么样的值，该变量就是这个值所对应的类型。这是因为像Python这种脚本语言，都有自动的内存管理，即所谓的垃圾回收机制。\n",
    "\n",
    "- 变量是存储在内存中的值，这就意味着在创建变量时会在内存中开辟一个空间，变量就指向这个内存地址。\n",
    "- 基于变量的数据类型，解释器会分配指定内存，并决定什么数据可以呗存储在内存中。\n",
    "- 变量可以指定不同的类型，这些变量可以存储整数、小数或字符（弱类型）。\n",
    "- 每个变量在使用之前都必须赋值，变量赋值以后，该变量才会被创建。\n",
    "- 等号（=）用来给变量赋值，其左侧是一个变量名，其右侧是存储在变量中的值。"
   ]
  },
  {
   "cell_type": "markdown",
   "metadata": {},
   "source": [
    "# 常见字符串处理\n",
    "\n",
    "- 去除空格及特殊符号：`strip()`, `lstrip()`, `rstrip()`\n",
    "- 复制字符串：`str1 = str2`\n",
    "- 连接字符串：`str2 += str1`或`new_str = str1 + str2`\n",
    "- 查找字符串：`pos = str1.index(str2)`\n",
    "- 比较字符串：`==`, `<`, `>`, 注：Python3中，`cmp()`函数被移除\n",
    "- 字符串长度：`len(str)`\n",
    "- 大小写转换：`u_str = str.upper()`, `l_str = str.lower()`\n",
    "- 首字母大写：`str.capitalize()`或`string.capword(str)`\n",
    "- **分割与合并字符串**：`split()`, `splitlines()`, `join()`\n",
    "- 字符串的常用判断\n",
    "- 类型转换\n",
    "- 格式化字符串"
   ]
  },
  {
   "cell_type": "markdown",
   "metadata": {},
   "source": [
    "## 去除空格"
   ]
  },
  {
   "cell_type": "code",
   "execution_count": 11,
   "metadata": {},
   "outputs": [
    {
     "name": "stdout",
     "output_type": "stream",
     "text": [
      "abcd efg\n",
      "abcd efg  \n",
      "   abcd efg\n",
      "   abcd efg  \n"
     ]
    }
   ],
   "source": [
    "s = '   abcd efg  '\n",
    "print(s.strip())\n",
    "print(s.lstrip())\n",
    "print(s.rstrip())\n",
    "print(s)"
   ]
  },
  {
   "cell_type": "markdown",
   "metadata": {},
   "source": [
    "## 字符串的连接"
   ]
  },
  {
   "cell_type": "code",
   "execution_count": 12,
   "metadata": {},
   "outputs": [
    {
     "name": "stdout",
     "output_type": "stream",
     "text": [
      "abc\n",
      "def\n"
     ]
    }
   ],
   "source": [
    "s1 = 'abc'\n",
    "s2 = 'def'\n",
    "print(s1 + '\\n' + s2)"
   ]
  },
  {
   "cell_type": "markdown",
   "metadata": {},
   "source": [
    "## 大小写转换"
   ]
  },
  {
   "cell_type": "code",
   "execution_count": 13,
   "metadata": {
    "scrolled": true
   },
   "outputs": [
    {
     "name": "stdout",
     "output_type": "stream",
     "text": [
      "ABC DEF\n",
      "abc def\n",
      "Abc def\n"
     ]
    }
   ],
   "source": [
    "s = 'abc def'\n",
    "print(s.upper())\n",
    "print(s.upper().lower())\n",
    "print(s.capitalize())"
   ]
  },
  {
   "cell_type": "markdown",
   "metadata": {},
   "source": [
    "## 位置比较"
   ]
  },
  {
   "cell_type": "code",
   "execution_count": 14,
   "metadata": {},
   "outputs": [
    {
     "name": "stdout",
     "output_type": "stream",
     "text": [
      "1\n"
     ]
    }
   ],
   "source": [
    "s1 = 'abcdefg'\n",
    "s2 = 'abdeffxx'\n",
    "\n",
    "print(s1.index('bcd'))\n",
    "\n",
    "try:\n",
    "    print(s2.index('bcd'))\n",
    "except ValueError:\n",
    "    pass\n"
   ]
  },
  {
   "cell_type": "code",
   "execution_count": 15,
   "metadata": {
    "scrolled": true
   },
   "outputs": [
    {
     "name": "stdout",
     "output_type": "stream",
     "text": [
      "False\n",
      "True\n",
      "False\n"
     ]
    }
   ],
   "source": [
    "print(s1 == s2)\n",
    "print(s1 < s2)\n",
    "print(s1 > s2)"
   ]
  },
  {
   "cell_type": "markdown",
   "metadata": {},
   "source": [
    "## 字符串长度"
   ]
  },
  {
   "cell_type": "code",
   "execution_count": 17,
   "metadata": {},
   "outputs": [
    {
     "name": "stdout",
     "output_type": "stream",
     "text": [
      "7\n",
      "0\n"
     ]
    }
   ],
   "source": [
    "print(len('abcdefg'))\n",
    "print(len(''))"
   ]
  },
  {
   "cell_type": "markdown",
   "metadata": {},
   "source": [
    "## 分割和合并字符串"
   ]
  },
  {
   "cell_type": "code",
   "execution_count": 18,
   "metadata": {},
   "outputs": [
    {
     "name": "stdout",
     "output_type": "stream",
     "text": [
      "['abc', 'def', 'ghi']\n",
      "<class 'list'>\n"
     ]
    }
   ],
   "source": [
    "s = 'abc,def,ghi'\n",
    "splitted = s.split(',')\n",
    "print(splitted)\n",
    "print(type(splitted))"
   ]
  },
  {
   "cell_type": "code",
   "execution_count": 23,
   "metadata": {},
   "outputs": [
    {
     "name": "stdout",
     "output_type": "stream",
     "text": [
      "['abc', 'def', 'ghi', 'jkl', '']\n",
      "['abc', 'def', 'ghi', 'jkl']\n"
     ]
    }
   ],
   "source": [
    "s = \"\"\"abc\n",
    "def\n",
    "ghi\n",
    "jkl\n",
    "\"\"\"\n",
    "s1 = s.split('\\n')\n",
    "s2 = s.splitlines()\n",
    "print(s1)\n",
    "print(s2)"
   ]
  },
  {
   "cell_type": "code",
   "execution_count": 24,
   "metadata": {},
   "outputs": [
    {
     "name": "stdout",
     "output_type": "stream",
     "text": [
      "abcdefghi\n",
      "abc-def-ghi\n",
      "abc\n",
      "def\n",
      "ghi\n"
     ]
    }
   ],
   "source": [
    "list1 = ['abc', 'def', 'ghi']\n",
    "print(''.join(list1))\n",
    "print('-'.join(list1))\n",
    "print('\\n'.join(list1))"
   ]
  },
  {
   "cell_type": "markdown",
   "metadata": {},
   "source": [
    "## 字符串常用判断"
   ]
  },
  {
   "cell_type": "code",
   "execution_count": 33,
   "metadata": {},
   "outputs": [
    {
     "name": "stdout",
     "output_type": "stream",
     "text": [
      "True\n",
      "True\n"
     ]
    }
   ],
   "source": [
    "s = 'abcdefg'\n",
    "print(s.startswith('abc'))\n",
    "print(s.endswith('efg'))"
   ]
  },
  {
   "cell_type": "code",
   "execution_count": 31,
   "metadata": {},
   "outputs": [
    {
     "name": "stdout",
     "output_type": "stream",
     "text": [
      "True\n",
      "False\n",
      "True\n",
      "True\n",
      "True\n",
      "True\n",
      "True\n",
      "False\n"
     ]
    }
   ],
   "source": [
    "print('1234abcd'.isalnum())\n",
    "print('\\t12ab'.isalnum())\n",
    "print('abcd'.isalpha())\n",
    "print('12345'.isdigit())\n",
    "print('    '.isspace())\n",
    "print('abcd12345'.islower())\n",
    "print('ABCD12345'.isupper())\n",
    "print('Hello world'.istitle())"
   ]
  },
  {
   "cell_type": "markdown",
   "metadata": {},
   "source": [
    "## 字符串和数字的转换"
   ]
  },
  {
   "cell_type": "code",
   "execution_count": 34,
   "metadata": {},
   "outputs": [
    {
     "name": "stdout",
     "output_type": "stream",
     "text": [
      "5\n",
      "5.0\n",
      "5.1234\n",
      "-5.123\n"
     ]
    }
   ],
   "source": [
    "# 数字到字符串\n",
    "\n",
    "print(str(5))\n",
    "print(str(5.))        # 小数点后面会自动补0\n",
    "print(str(5.1234))\n",
    "print(str(-5.123))"
   ]
  },
  {
   "cell_type": "code",
   "execution_count": 35,
   "metadata": {},
   "outputs": [
    {
     "name": "stdout",
     "output_type": "stream",
     "text": [
      "1234\n",
      "1234.45\n"
     ]
    },
    {
     "ename": "ValueError",
     "evalue": "invalid literal for int() with base 10: '123.45'",
     "output_type": "error",
     "traceback": [
      "\u001b[0;31m---------------------------------------------------------------------------\u001b[0m",
      "\u001b[0;31mValueError\u001b[0m                                Traceback (most recent call last)",
      "\u001b[0;32m<ipython-input-35-23e06dabf391>\u001b[0m in \u001b[0;36m<module>\u001b[0;34m()\u001b[0m\n\u001b[1;32m      3\u001b[0m \u001b[0mprint\u001b[0m\u001b[0;34m(\u001b[0m\u001b[0mint\u001b[0m\u001b[0;34m(\u001b[0m\u001b[0;34m'1234'\u001b[0m\u001b[0;34m)\u001b[0m\u001b[0;34m)\u001b[0m\u001b[0;34m\u001b[0m\u001b[0m\n\u001b[1;32m      4\u001b[0m \u001b[0mprint\u001b[0m\u001b[0;34m(\u001b[0m\u001b[0mfloat\u001b[0m\u001b[0;34m(\u001b[0m\u001b[0;34m'1234.45'\u001b[0m\u001b[0;34m)\u001b[0m\u001b[0;34m)\u001b[0m\u001b[0;34m\u001b[0m\u001b[0m\n\u001b[0;32m----> 5\u001b[0;31m \u001b[0mprint\u001b[0m\u001b[0;34m(\u001b[0m\u001b[0mint\u001b[0m\u001b[0;34m(\u001b[0m\u001b[0;34m'123.45'\u001b[0m\u001b[0;34m)\u001b[0m\u001b[0;34m)\u001b[0m\u001b[0;34m\u001b[0m\u001b[0m\n\u001b[0m\u001b[1;32m      6\u001b[0m \u001b[0mprint\u001b[0m\u001b[0;34m(\u001b[0m\u001b[0;34m)\u001b[0m\u001b[0;34m\u001b[0m\u001b[0m\n",
      "\u001b[0;31mValueError\u001b[0m: invalid literal for int() with base 10: '123.45'"
     ]
    }
   ],
   "source": [
    "# 字符串到数字\n",
    "\n",
    "print(int('1234'))\n",
    "print(float('1234.45'))\n",
    "print(int('123.45'))    # 会报错"
   ]
  },
  {
   "cell_type": "code",
   "execution_count": 38,
   "metadata": {},
   "outputs": [
    {
     "name": "stdout",
     "output_type": "stream",
     "text": [
      "255\n",
      "4095\n",
      "65535\n"
     ]
    }
   ],
   "source": [
    "# 二进制、八进制或十六进制的转换\n",
    "\n",
    "print(int('11111111', 2))\n",
    "print(int('7777', 8))\n",
    "print(int('ffff', 16))"
   ]
  },
  {
   "cell_type": "markdown",
   "metadata": {},
   "source": [
    "# 字符串和数组的转换"
   ]
  },
  {
   "cell_type": "code",
   "execution_count": 39,
   "metadata": {},
   "outputs": [
    {
     "name": "stdout",
     "output_type": "stream",
     "text": [
      "['a', 'b', 'c', 'd', 'e', 'f', 'g']\n"
     ]
    }
   ],
   "source": [
    "s = 'abcdefg'\n",
    "list1 = list(s)\n",
    "print(list1)"
   ]
  },
  {
   "cell_type": "markdown",
   "metadata": {},
   "source": [
    "# 其他\n",
    "\n",
    "- 堆和栈的区别"
   ]
  },
  {
   "cell_type": "code",
   "execution_count": null,
   "metadata": {},
   "outputs": [],
   "source": []
  }
 ],
 "metadata": {
  "kernelspec": {
   "display_name": "Python 3",
   "language": "python",
   "name": "python3"
  },
  "language_info": {
   "codemirror_mode": {
    "name": "ipython",
    "version": 3
   },
   "file_extension": ".py",
   "mimetype": "text/x-python",
   "name": "python",
   "nbconvert_exporter": "python",
   "pygments_lexer": "ipython3",
   "version": "3.6.4"
  }
 },
 "nbformat": 4,
 "nbformat_minor": 2
}
