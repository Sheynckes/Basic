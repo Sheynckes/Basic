{
 "cells": [
  {
   "cell_type": "markdown",
   "metadata": {},
   "source": [
    "# 生成器\n",
    "\n",
    "- 问题的提出\n",
    "    - 创建一个巨大的列表而仅仅需要访问其中少量几个元素；\n",
    "    - 如果列表元素可以按照某种算法推算出来，那我们是否可以在循环的过程中不断推算出后续的元素呢？这样就不必创建完整的列表，从而节省大量的内存空间;\n",
    "    - 只在使用其中的元素的时候，才会进行相关计算（惰性计算）；不用的时候，并不没有必要的计算;\n",
    "    - 生成器必须从第0个元素开始迭代。\n",
    "- 定义生成器：列表推导时，用`()`代替`[]`\n",
    "- 遍历：`next`或者`for`循环"
   ]
  },
  {
   "cell_type": "code",
   "execution_count": 4,
   "metadata": {},
   "outputs": [
    {
     "name": "stdout",
     "output_type": "stream",
     "text": [
      "0\n",
      "1\n",
      "4\n",
      "9\n",
      "16\n",
      "25\n",
      "36\n",
      "49\n",
      "64\n",
      "81\n",
      "0\n",
      "1\n",
      "4\n",
      "9\n",
      "16\n",
      "25\n",
      "36\n",
      "49\n",
      "64\n",
      "81\n"
     ]
    }
   ],
   "source": [
    "# 平方表\n",
    "\n",
    "# 直接使用列表\n",
    "square_table = []\n",
    "for i in range(10000):\n",
    "    square_table.append(i * i)\n",
    "\n",
    "for i in range(10):\n",
    "    print(square_table[i])\n",
    "    \n",
    "\n",
    "# 使用生成器\n",
    "square_generator = (x * x for x in range(10000))\n",
    "for i in range(10):\n",
    "    print(next(square_generator))"
   ]
  },
  {
   "cell_type": "code",
   "execution_count": 9,
   "metadata": {},
   "outputs": [
    {
     "name": "stdout",
     "output_type": "stream",
     "text": [
      "1\n",
      "1\n",
      "2\n",
      "3\n",
      "5\n",
      "8\n"
     ]
    }
   ],
   "source": [
    "# Fibonacci Sequence\n",
    "\n",
    "def fib(limit):\n",
    "    n, a, b = 0, 0, 1\n",
    "    while n < limit:\n",
    "        yield b\n",
    "        a, b = b, a + b\n",
    "        n += 1\n",
    "    return 'Done'\n",
    "\n",
    "for i in fib(6):\n",
    "    print(i)"
   ]
  },
  {
   "cell_type": "code",
   "execution_count": 16,
   "metadata": {},
   "outputs": [
    {
     "name": "stdout",
     "output_type": "stream",
     "text": [
      "<class 'generator'>\n"
     ]
    }
   ],
   "source": [
    "f = fib(6)\n",
    "print(type(f))"
   ]
  },
  {
   "cell_type": "code",
   "execution_count": 17,
   "metadata": {},
   "outputs": [
    {
     "name": "stdout",
     "output_type": "stream",
     "text": [
      "1\n",
      "1\n",
      "2\n",
      "3\n",
      "5\n",
      "8\n"
     ]
    },
    {
     "ename": "StopIteration",
     "evalue": "Done",
     "output_type": "error",
     "traceback": [
      "\u001b[0;31m---------------------------------------------------------------------------\u001b[0m",
      "\u001b[0;31mStopIteration\u001b[0m                             Traceback (most recent call last)",
      "\u001b[0;32m<ipython-input-17-7b11057451a2>\u001b[0m in \u001b[0;36m<module>\u001b[0;34m()\u001b[0m\n\u001b[1;32m      5\u001b[0m \u001b[0mprint\u001b[0m\u001b[0;34m(\u001b[0m\u001b[0mnext\u001b[0m\u001b[0;34m(\u001b[0m\u001b[0mf\u001b[0m\u001b[0;34m)\u001b[0m\u001b[0;34m)\u001b[0m\u001b[0;34m\u001b[0m\u001b[0m\n\u001b[1;32m      6\u001b[0m \u001b[0mprint\u001b[0m\u001b[0;34m(\u001b[0m\u001b[0mnext\u001b[0m\u001b[0;34m(\u001b[0m\u001b[0mf\u001b[0m\u001b[0;34m)\u001b[0m\u001b[0;34m)\u001b[0m\u001b[0;34m\u001b[0m\u001b[0m\n\u001b[0;32m----> 7\u001b[0;31m \u001b[0mprint\u001b[0m\u001b[0;34m(\u001b[0m\u001b[0mnext\u001b[0m\u001b[0;34m(\u001b[0m\u001b[0mf\u001b[0m\u001b[0;34m)\u001b[0m\u001b[0;34m)\u001b[0m\u001b[0;34m\u001b[0m\u001b[0m\n\u001b[0m",
      "\u001b[0;31mStopIteration\u001b[0m: Done"
     ]
    }
   ],
   "source": [
    "print(next(f))\n",
    "print(next(f))\n",
    "print(next(f))\n",
    "print(next(f))\n",
    "print(next(f))\n",
    "print(next(f))\n",
    "print(next(f))"
   ]
  },
  {
   "cell_type": "markdown",
   "metadata": {},
   "source": [
    "# 迭代器\n",
    "\n",
    "- 问题的提出\n",
    "    - 可以直接作用于`for`循环的对象统称为**可迭代对象**：Iterable\n",
    "    - 可以被`next()`函数调用并不断返回下一个值的对象成为**迭代器**：Iterator（表示一个**惰性计算**的序列）\n",
    "    - 生成器是进行惰性计算的，所以Python中的生成器一定是迭代器\n",
    "    - 迭代器不一定能用于`for`，但能用于`for`的一定是迭代器\n",
    "- 集合数据类型如list、dict、str等是Iterable，但不是Iterator，不过可以通过`iter()`函数获得一个Iterator对象。"
   ]
  },
  {
   "cell_type": "code",
   "execution_count": 20,
   "metadata": {},
   "outputs": [
    {
     "name": "stdout",
     "output_type": "stream",
     "text": [
      "True\n",
      "True\n",
      "True\n",
      "False\n"
     ]
    }
   ],
   "source": [
    "from collections import Iterable, Iterator\n",
    "\n",
    "print(isinstance([1, 2, 3], Iterable))\n",
    "print(isinstance({}, Iterable))\n",
    "print(isinstance('abc', Iterable))\n",
    "print(isinstance(123, Iterable))"
   ]
  },
  {
   "cell_type": "code",
   "execution_count": 22,
   "metadata": {},
   "outputs": [
    {
     "name": "stdout",
     "output_type": "stream",
     "text": [
      "False\n",
      "False\n",
      "False\n",
      "False\n"
     ]
    }
   ],
   "source": [
    "print(isinstance([1, 2, 3], Iterator))\n",
    "print(isinstance({}, Iterator))\n",
    "print(isinstance('abc', Iterator))\n",
    "print(isinstance(123, Iterator))"
   ]
  },
  {
   "cell_type": "code",
   "execution_count": 24,
   "metadata": {},
   "outputs": [
    {
     "name": "stdout",
     "output_type": "stream",
     "text": [
      "<class 'generator'>\n",
      "True\n",
      "True\n"
     ]
    }
   ],
   "source": [
    "g = (x * x for x in range(10))\n",
    "print(type(g))\n",
    "print(isinstance(g, Iterable))\n",
    "print(isinstance(g, Iterator))"
   ]
  },
  {
   "cell_type": "code",
   "execution_count": 25,
   "metadata": {},
   "outputs": [
    {
     "name": "stdout",
     "output_type": "stream",
     "text": [
      "0\n",
      "1\n",
      "4\n",
      "9\n",
      "16\n",
      "25\n",
      "36\n",
      "49\n",
      "64\n",
      "81\n"
     ]
    }
   ],
   "source": [
    "for i in g:\n",
    "    print(i)"
   ]
  },
  {
   "cell_type": "code",
   "execution_count": 30,
   "metadata": {},
   "outputs": [
    {
     "name": "stdout",
     "output_type": "stream",
     "text": [
      "<class 'generator'>\n",
      "True\n",
      "True\n"
     ]
    }
   ],
   "source": [
    "def fib(limit):\n",
    "    n, a, b = 0, 0, 1\n",
    "    while n < limit:\n",
    "        yield b\n",
    "        a, b = b, a + b\n",
    "        n += 1\n",
    "    return 'Done'\n",
    "\n",
    "f = fib(6)\n",
    "    \n",
    "print(type(f))\n",
    "print(isinstance(f, Iterable))\n",
    "print(isinstance(f, Iterator))"
   ]
  },
  {
   "cell_type": "code",
   "execution_count": 31,
   "metadata": {},
   "outputs": [
    {
     "name": "stdout",
     "output_type": "stream",
     "text": [
      "1\n",
      "1\n",
      "2\n",
      "3\n",
      "5\n",
      "8\n"
     ]
    }
   ],
   "source": [
    "for i in f:\n",
    "    print(i)"
   ]
  },
  {
   "cell_type": "code",
   "execution_count": null,
   "metadata": {},
   "outputs": [],
   "source": []
  }
 ],
 "metadata": {
  "kernelspec": {
   "display_name": "Python 3",
   "language": "python",
   "name": "python3"
  },
  "language_info": {
   "codemirror_mode": {
    "name": "ipython",
    "version": 3
   },
   "file_extension": ".py",
   "mimetype": "text/x-python",
   "name": "python",
   "nbconvert_exporter": "python",
   "pygments_lexer": "ipython3",
   "version": "3.6.4"
  }
 },
 "nbformat": 4,
 "nbformat_minor": 2
}
