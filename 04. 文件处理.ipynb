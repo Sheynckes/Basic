{
 "cells": [
  {
   "cell_type": "markdown",
   "metadata": {},
   "source": [
    "# 文件的读写\n",
    "\n",
    "推荐使用`with`打开文件，该命令自带关闭文件的功能，这样可以使内存和文件更加安全。"
   ]
  },
  {
   "cell_type": "code",
   "execution_count": 7,
   "metadata": {},
   "outputs": [],
   "source": [
    "with open('somefile.txt', 'r') as f:\n",
    "    data = f.read()"
   ]
  },
  {
   "cell_type": "code",
   "execution_count": 8,
   "metadata": {},
   "outputs": [],
   "source": [
    "with open('somefile.txt', 'r') as f:\n",
    "    for line in f:\n",
    "        print(line)"
   ]
  },
  {
   "cell_type": "code",
   "execution_count": 9,
   "metadata": {},
   "outputs": [],
   "source": [
    "line1 = 'Hello World!'\n",
    "line2 = 'Hello Sean!'\n",
    "with open('somefile.txt', 'w') as f:\n",
    "    f.write(line1)\n",
    "    f.write(line2)"
   ]
  },
  {
   "cell_type": "code",
   "execution_count": 10,
   "metadata": {},
   "outputs": [],
   "source": [
    "line1 = 'Hello World!'\n",
    "line2 = 'Hello Sean!'\n",
    "with open('somefile.txt', 'w') as f:\n",
    "    print(line1, file=f)\n",
    "    print(line2, file=f)"
   ]
  },
  {
   "cell_type": "markdown",
   "metadata": {},
   "source": [
    "# 文件和目录的操作\n",
    "\n",
    "## 基本操作\n",
    "\n",
    "用Python内置的`os`模块直接调用操作系统提供的接口函数。例如：`os.name`可以告诉我们操作系统的名字，如果是posix，说明系统是#nix族，如果是nt，说明系统是Windows。另外，我们可以调用`uname()`函数查看其具体信息。"
   ]
  },
  {
   "cell_type": "code",
   "execution_count": 11,
   "metadata": {},
   "outputs": [
    {
     "data": {
      "text/plain": [
       "'posix'"
      ]
     },
     "execution_count": 11,
     "metadata": {},
     "output_type": "execute_result"
    }
   ],
   "source": [
    "import os\n",
    "os.name"
   ]
  },
  {
   "cell_type": "code",
   "execution_count": 12,
   "metadata": {},
   "outputs": [
    {
     "data": {
      "text/plain": [
       "posix.uname_result(sysname='Darwin', nodename='bogon', release='17.4.0', version='Darwin Kernel Version 17.4.0: Sun Dec 17 09:19:54 PST 2017; root:xnu-4570.41.2~1/RELEASE_X86_64', machine='x86_64')"
      ]
     },
     "execution_count": 12,
     "metadata": {},
     "output_type": "execute_result"
    }
   ],
   "source": [
    "os.uname()"
   ]
  },
  {
   "cell_type": "markdown",
   "metadata": {},
   "source": [
    "## 环境变量\n",
    "\n",
    "在操作系统中定义的环境变量，全部保存在`os.environ`变量（一个字典）中，可以直接查看。"
   ]
  },
  {
   "cell_type": "code",
   "execution_count": 13,
   "metadata": {},
   "outputs": [
    {
     "data": {
      "text/plain": [
       "environ({'TERM_PROGRAM': 'Apple_Terminal', 'TERM': 'xterm-color', 'SHELL': '/bin/bash', 'TMPDIR': '/var/folders/wm/tr2zh24j4q7fyf3qxzqwwlbw0000gn/T/', 'Apple_PubSub_Socket_Render': '/private/tmp/com.apple.launchd.m8fCX0XpPZ/Render', 'CONDA_SHLVL': '1', 'TERM_PROGRAM_VERSION': '400', 'CONDA_PROMPT_MODIFIER': '(base) ', 'TERM_SESSION_ID': 'A9245C46-862B-4C29-9D31-D290DCB7D382', 'LC_ALL': 'en_US.UTF-8', 'USER': 'shenghai', 'CONDA_EXE': '/Users/shenghai/anaconda3/bin/conda', 'SSH_AUTH_SOCK': '/private/tmp/com.apple.launchd.Wx27NrGAXM/Listeners', 'CONDA_ROOT': '/Users/shenghai/anaconda3', 'PATH': '/Users/shenghai/anaconda3/bin:/usr/local/bin:/usr/bin:/bin:/usr/sbin:/sbin', 'CONDA_PREFIX': '/Users/shenghai/anaconda3', 'PWD': '/Users/shenghai', 'LANG': 'en_US.UTF-8', 'XPC_FLAGS': '0x0', 'XPC_SERVICE_NAME': '0', 'SHLVL': '4', 'HOME': '/Users/shenghai', 'QT_API': 'pyqt5', 'CONDA_PYTHON_EXE': '/Users/shenghai/anaconda3/bin/python', 'LOGNAME': 'shenghai', 'LC_CTYPE': 'UTF-8', 'CONDA_DEFAULT_ENV': 'base', '_': '/Users/shenghai/anaconda3/bin/jupyter-notebook', 'JPY_PARENT_PID': '719', 'CLICOLOR': '1', 'PAGER': 'cat', 'GIT_PAGER': 'cat', 'MPLBACKEND': 'module://ipykernel.pylab.backend_inline'})"
      ]
     },
     "execution_count": 13,
     "metadata": {},
     "output_type": "execute_result"
    }
   ],
   "source": [
    "os.environ"
   ]
  },
  {
   "cell_type": "markdown",
   "metadata": {},
   "source": [
    "## 对目录的操作\n",
    "\n",
    "可以通过以下函数对目录进行查看、创建和删除。"
   ]
  },
  {
   "cell_type": "code",
   "execution_count": 15,
   "metadata": {},
   "outputs": [
    {
     "data": {
      "text/plain": [
       "'/Users/shenghai/Documents/Python/Basic/Notizen'"
      ]
     },
     "execution_count": 15,
     "metadata": {},
     "output_type": "execute_result"
    }
   ],
   "source": [
    "# 获取当前目录的绝对路径 \n",
    "\n",
    "import os  \n",
    "\n",
    "os.path.abspath('.') "
   ]
  },
  {
   "cell_type": "code",
   "execution_count": 27,
   "metadata": {},
   "outputs": [
    {
     "data": {
      "text/plain": [
       "['.DS_Store',\n",
       " '.ipynb_checkpoints',\n",
       " '1. 变量和类型.ipynb',\n",
       " '2. 函数.ipynb',\n",
       " '3. 生成器和迭代器.ipynb',\n",
       " '4. 文件处理.ipynb',\n",
       " 'Basic Syntax.md',\n",
       " 'Introduction.md',\n",
       " 'somefile.txt',\n",
       " '书籍.md']"
      ]
     },
     "execution_count": 27,
     "metadata": {},
     "output_type": "execute_result"
    }
   ],
   "source": [
    "# 查看目录下的所有内容\n",
    "os.listdir()"
   ]
  },
  {
   "cell_type": "code",
   "execution_count": 43,
   "metadata": {},
   "outputs": [
    {
     "data": {
      "text/plain": [
       "['.DS_Store',\n",
       " '.ipynb_checkpoints',\n",
       " '1. 变量和类型.ipynb',\n",
       " '2. 函数.ipynb',\n",
       " '3. 生成器和迭代器.ipynb',\n",
       " '4. 文件处理.ipynb',\n",
       " 'Basic Syntax.md',\n",
       " 'Introduction.md',\n",
       " 'new_content',\n",
       " 'somefile.txt',\n",
       " '书籍.md']"
      ]
     },
     "execution_count": 43,
     "metadata": {},
     "output_type": "execute_result"
    }
   ],
   "source": [
    "# 创建一个新目录\n",
    "os.mkdir('new_content') \n",
    "os.listdir()"
   ]
  },
  {
   "cell_type": "code",
   "execution_count": 44,
   "metadata": {},
   "outputs": [
    {
     "data": {
      "text/plain": [
       "['.DS_Store',\n",
       " '.ipynb_checkpoints',\n",
       " '1. 变量和类型.ipynb',\n",
       " '2. 函数.ipynb',\n",
       " '3. 生成器和迭代器.ipynb',\n",
       " '4. 文件处理.ipynb',\n",
       " 'Basic Syntax.md',\n",
       " 'Introduction.md',\n",
       " 'old_content',\n",
       " 'somefile.txt',\n",
       " '书籍.md']"
      ]
     },
     "execution_count": 44,
     "metadata": {},
     "output_type": "execute_result"
    }
   ],
   "source": [
    "# 目录重命名\n",
    "os.rename('new_content', 'old_content')\n",
    "os.listdir()"
   ]
  },
  {
   "cell_type": "code",
   "execution_count": 45,
   "metadata": {},
   "outputs": [
    {
     "data": {
      "text/plain": [
       "['.DS_Store',\n",
       " '.ipynb_checkpoints',\n",
       " '1. 变量和类型.ipynb',\n",
       " '2. 函数.ipynb',\n",
       " '3. 生成器和迭代器.ipynb',\n",
       " '4. 文件处理.ipynb',\n",
       " 'Basic Syntax.md',\n",
       " 'Introduction.md',\n",
       " 'somefile.txt',\n",
       " '书籍.md']"
      ]
     },
     "execution_count": 45,
     "metadata": {},
     "output_type": "execute_result"
    }
   ],
   "source": [
    "# 删除目录\n",
    "os.rmdir('old_content')\n",
    "os.listdir()"
   ]
  },
  {
   "cell_type": "markdown",
   "metadata": {},
   "source": [
    "使用`os.path.join()`、`os.path.split()`、`os.path.splitext()`等方法对路径进行合并、拆分等操作，可以避免由于不同操作系统中的路径分隔符不同所引入的错误。"
   ]
  },
  {
   "cell_type": "code",
   "execution_count": 47,
   "metadata": {},
   "outputs": [
    {
     "data": {
      "text/plain": [
       "['.DS_Store',\n",
       " '.ipynb_checkpoints',\n",
       " '1. 变量和类型.ipynb',\n",
       " '2. 函数.ipynb',\n",
       " '3. 生成器和迭代器.ipynb',\n",
       " '4. 文件处理.ipynb',\n",
       " 'Basic Syntax.md',\n",
       " 'Introduction.md',\n",
       " 'new_content',\n",
       " 'somefile.txt',\n",
       " '书籍.md']"
      ]
     },
     "execution_count": 47,
     "metadata": {},
     "output_type": "execute_result"
    }
   ],
   "source": [
    "# 使用`os.path.join()`对路径进行合并\n",
    "path_present = os.path.abspath('.') \n",
    "path_new = os.path.join(path_present, 'new_content')\n",
    "os.mkdir(path_new)\n",
    "os.listdir()"
   ]
  },
  {
   "cell_type": "code",
   "execution_count": 48,
   "metadata": {},
   "outputs": [
    {
     "data": {
      "text/plain": [
       "('/Users/shenghai/Documents/Python/Basic/Notizen', 'somefile.txt')"
      ]
     },
     "execution_count": 48,
     "metadata": {},
     "output_type": "execute_result"
    }
   ],
   "source": [
    "# 使用`os.path.split()`对路径进行拆分\n",
    "path_present = os.path.abspath('.') \n",
    "path_txt = os.path.join(path_present, 'somefile.txt')\n",
    "os.path.split(path_txt)"
   ]
  },
  {
   "cell_type": "code",
   "execution_count": 49,
   "metadata": {},
   "outputs": [
    {
     "data": {
      "text/plain": [
       "('/Users/shenghai/Documents/Python/Basic/Notizen/somefile', '.txt')"
      ]
     },
     "execution_count": 49,
     "metadata": {},
     "output_type": "execute_result"
    }
   ],
   "source": [
    "# 使用`os.path.splitext()`对路径进行拆分——可获得文件扩展名\n",
    "path_present = os.path.abspath('.') \n",
    "path_txt = os.path.join(path_present, 'somefile.txt')\n",
    "os.path.splitext(path_txt)"
   ]
  },
  {
   "cell_type": "code",
   "execution_count": 50,
   "metadata": {},
   "outputs": [
    {
     "data": {
      "text/plain": [
       "['.ipynb_checkpoints', 'new_content']"
      ]
     },
     "execution_count": 50,
     "metadata": {},
     "output_type": "execute_result"
    }
   ],
   "source": [
    "# 列出当前目录下的所有目录\n",
    "[x for x in os.listdir('.') if os.path.isdir(x)]"
   ]
  },
  {
   "cell_type": "code",
   "execution_count": 51,
   "metadata": {},
   "outputs": [
    {
     "data": {
      "text/plain": [
       "['Basic Syntax.md', 'Introduction.md', '书籍.md']"
      ]
     },
     "execution_count": 51,
     "metadata": {},
     "output_type": "execute_result"
    }
   ],
   "source": [
    "# 列出当前目录下所有.md文件\n",
    "[x for x in os.listdir('.') if os.path.isfile(x) and os.path.splitext(x)[1]=='.md']"
   ]
  },
  {
   "cell_type": "markdown",
   "metadata": {},
   "source": [
    "## `shutil`模块\n",
    "\n",
    "`shutil`模块比`os`模块更加实用，其中提供了复制文件等操作。"
   ]
  },
  {
   "cell_type": "code",
   "execution_count": 57,
   "metadata": {},
   "outputs": [
    {
     "data": {
      "text/plain": [
       "['.DS_Store',\n",
       " '.ipynb_checkpoints',\n",
       " '1. 变量和类型.ipynb',\n",
       " '2. 函数.ipynb',\n",
       " '3. 生成器和迭代器.ipynb',\n",
       " '4. 文件处理.ipynb',\n",
       " 'Basic Syntax.md',\n",
       " 'Introduction.md',\n",
       " 'new_content',\n",
       " 'somefile.txt',\n",
       " '书籍.md']"
      ]
     },
     "execution_count": 57,
     "metadata": {},
     "output_type": "execute_result"
    }
   ],
   "source": [
    "import shutil\n",
    "\n",
    "shutil.copyfile('somefile.txt', './new_content/somefile.txt')\n",
    "os.listdir()"
   ]
  },
  {
   "cell_type": "code",
   "execution_count": null,
   "metadata": {},
   "outputs": [],
   "source": []
  }
 ],
 "metadata": {
  "kernelspec": {
   "display_name": "Python 3",
   "language": "python",
   "name": "python3"
  },
  "language_info": {
   "codemirror_mode": {
    "name": "ipython",
    "version": 3
   },
   "file_extension": ".py",
   "mimetype": "text/x-python",
   "name": "python",
   "nbconvert_exporter": "python",
   "pygments_lexer": "ipython3",
   "version": "3.6.4"
  }
 },
 "nbformat": 4,
 "nbformat_minor": 2
}
