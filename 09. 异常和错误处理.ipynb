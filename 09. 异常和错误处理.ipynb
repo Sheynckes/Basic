{
 "cells": [
  {
   "cell_type": "markdown",
   "metadata": {},
   "source": [
    "# 异常的抛出和捕捉"
   ]
  },
  {
   "cell_type": "code",
   "execution_count": 5,
   "metadata": {},
   "outputs": [
    {
     "name": "stdout",
     "output_type": "stream",
     "text": [
      "No Exception\n",
      "Always done\n",
      "10.0\n"
     ]
    }
   ],
   "source": [
    "import traceback\n",
    "\n",
    "try:\n",
    "    r = 10 / 1\n",
    "# 有异常发生时，会执行except中的代码段\n",
    "except ZeroDivisionError as e:\n",
    "    print(e)\n",
    "    r = 1\n",
    "# 没有异常发生时，会执行else中的代码段\n",
    "else:\n",
    "    print('No Exception')\n",
    "# 不管异常是否发生，都会执行finally中的代码段\n",
    "finally:\n",
    "    print('Always done')\n",
    "print(r)"
   ]
  },
  {
   "cell_type": "code",
   "execution_count": null,
   "metadata": {},
   "outputs": [],
   "source": []
  }
 ],
 "metadata": {
  "kernelspec": {
   "display_name": "Python 3",
   "language": "python",
   "name": "python3"
  },
  "language_info": {
   "codemirror_mode": {
    "name": "ipython",
    "version": 3
   },
   "file_extension": ".py",
   "mimetype": "text/x-python",
   "name": "python",
   "nbconvert_exporter": "python",
   "pygments_lexer": "ipython3",
   "version": "3.6.4"
  }
 },
 "nbformat": 4,
 "nbformat_minor": 2
}
