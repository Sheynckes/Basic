{
 "cells": [
  {
   "cell_type": "markdown",
   "metadata": {},
   "source": [
    "# 序列化和反序列化\n",
    "\n",
    "程序运行过程中，所有变量都是在内存中操作的。当程序执行完毕并结束退出后，变量占有的内存就被操作系统回收了。因此，我们需要将某些数据持久化存储到磁盘中，下次运行的时候从磁盘中读取相关的数据。\n",
    "\n",
    "- 我们将变量从内存中变成可以存储或传输的过程，称为**序列化**，在Python中叫做pickling，在其他语言中叫做serialization、marshaling、flatterning等等。\n",
    "- 反之，把变脸内容从序列化的对象重新读取到内存中的过程，则称为**反序列化**，在Python中叫做unpickling。"
   ]
  },
  {
   "cell_type": "markdown",
   "metadata": {},
   "source": [
    "# 用二进制形式实现序列化和反序列化——`pickle`模块"
   ]
  },
  {
   "cell_type": "markdown",
   "metadata": {},
   "source": [
    "Python2中有两个模块进行序列化和反序列化操作，即`pickle`和`cPickle`，其中`cPickle`是用C语言实现的序列化方式，而`pickle`则使用Python语言实现的序列化方式。Python3中将二者统一为`pickle`。\n",
    "\n",
    "为了保证序列化和反序列化的程序在Python2和Python3环境中均能运行，可以使用以下方法导入模块。"
   ]
  },
  {
   "cell_type": "code",
   "execution_count": 9,
   "metadata": {},
   "outputs": [],
   "source": [
    "try:\n",
    "    import cPickle as pickle\n",
    "except ImportError:\n",
    "    import pickle"
   ]
  },
  {
   "cell_type": "markdown",
   "metadata": {},
   "source": [
    "## 序列化操作"
   ]
  },
  {
   "cell_type": "code",
   "execution_count": 40,
   "metadata": {},
   "outputs": [],
   "source": [
    "import pickle\n",
    "\n",
    "# 此处定义一个字典对象\n",
    "d1 = dict(name='Sean', age=29, score=100)\n",
    "# 调用pickle模块中的dumps()函数进行序列化处理\n",
    "d1_pickle = pickle.dumps(d1)\n",
    "\n",
    "# 也可以调用pickle模块中的dump()函数将内容序列化后，写入文件\n",
    "with open('dump_pickle.txt', 'wb') as f:\n",
    "    pickle.dump(d1, f)"
   ]
  },
  {
   "cell_type": "code",
   "execution_count": 41,
   "metadata": {},
   "outputs": [
    {
     "data": {
      "text/plain": [
       "{'age': 29, 'name': 'Sean', 'score': 100}"
      ]
     },
     "execution_count": 41,
     "metadata": {},
     "output_type": "execute_result"
    }
   ],
   "source": [
    "d1"
   ]
  },
  {
   "cell_type": "code",
   "execution_count": 42,
   "metadata": {},
   "outputs": [
    {
     "data": {
      "text/plain": [
       "b'\\x80\\x03}q\\x00(X\\x04\\x00\\x00\\x00nameq\\x01X\\x04\\x00\\x00\\x00Seanq\\x02X\\x03\\x00\\x00\\x00ageq\\x03K\\x1dX\\x05\\x00\\x00\\x00scoreq\\x04Kdu.'"
      ]
     },
     "execution_count": 42,
     "metadata": {},
     "output_type": "execute_result"
    }
   ],
   "source": [
    "d1_pickle"
   ]
  },
  {
   "cell_type": "code",
   "execution_count": 43,
   "metadata": {
    "scrolled": true
   },
   "outputs": [
    {
     "name": "stdout",
     "output_type": "stream",
     "text": [
      "b'\\x80\\x03}q\\x00(X\\x04\\x00\\x00\\x00nameq\\x01X\\x04\\x00\\x00\\x00Seanq\\x02X\\x03\\x00\\x00\\x00ageq\\x03K\\x1dX\\x05\\x00\\x00\\x00scoreq\\x04Kdu.'\n"
     ]
    }
   ],
   "source": [
    "with open('dump_pickle.txt', 'rb') as f:\n",
    "    print(f.read())"
   ]
  },
  {
   "cell_type": "markdown",
   "metadata": {},
   "source": [
    "## 反序列化操作"
   ]
  },
  {
   "cell_type": "code",
   "execution_count": 51,
   "metadata": {},
   "outputs": [
    {
     "data": {
      "text/plain": [
       "{'age': 29, 'name': 'Sean', 'score': 100}"
      ]
     },
     "execution_count": 51,
     "metadata": {},
     "output_type": "execute_result"
    }
   ],
   "source": [
    "# 调用pickle模块中的loads()函数进行反序列化处理\n",
    "pickle.loads(d1_pickle)"
   ]
  },
  {
   "cell_type": "code",
   "execution_count": 46,
   "metadata": {},
   "outputs": [
    {
     "name": "stdout",
     "output_type": "stream",
     "text": [
      "Name is Sean.\n"
     ]
    }
   ],
   "source": [
    "# 从之前序列化得到的dump_pickle.txt文件中读取内容\n",
    "with open('dump_pickle.txt', 'rb') as f:\n",
    "    d1_unpickle = pickle.load(f)\n",
    "    \n",
    "print('Name is %s.' % d1_unpickle['name'])"
   ]
  },
  {
   "cell_type": "markdown",
   "metadata": {},
   "source": [
    "# 用JSON实现序列化和反序列化\n",
    "\n",
    "JSON是一种在所用编程语言中都通用的文件标准（key-value对）。Python数据结构与JSON有非常完美的兼容。如果有一个比较结构化的数据需要被序列化，并且想要在别的地方被其他语言读懂，则可以用JSON来实现。"
   ]
  },
  {
   "cell_type": "markdown",
   "metadata": {},
   "source": [
    "## 序列化操作"
   ]
  },
  {
   "cell_type": "code",
   "execution_count": 47,
   "metadata": {},
   "outputs": [
    {
     "name": "stdout",
     "output_type": "stream",
     "text": [
      "{\"name\": \"Kroos\", \"age\": 32, \"score\": 150}\n"
     ]
    }
   ],
   "source": [
    "import json\n",
    "\n",
    "# 定义字典对象\n",
    "d2 = dict(name='Kroos', age=32, score=150)\n",
    "# 调用json模块中的dumps()函数进行序列化处理\n",
    "d2_json = json.dumps(d2)\n",
    "\n",
    "# 也可以调用json模块中的dump()函数将内容序列化后，写入文件\n",
    "with open('dump_json.txt', 'w') as f:\n",
    "    json.dump(d2, f)"
   ]
  },
  {
   "cell_type": "code",
   "execution_count": 48,
   "metadata": {},
   "outputs": [
    {
     "data": {
      "text/plain": [
       "{'age': 32, 'name': 'Kroos', 'score': 150}"
      ]
     },
     "execution_count": 48,
     "metadata": {},
     "output_type": "execute_result"
    }
   ],
   "source": [
    "d2"
   ]
  },
  {
   "cell_type": "code",
   "execution_count": 49,
   "metadata": {},
   "outputs": [
    {
     "data": {
      "text/plain": [
       "'{\"name\": \"Kroos\", \"age\": 32, \"score\": 150}'"
      ]
     },
     "execution_count": 49,
     "metadata": {},
     "output_type": "execute_result"
    }
   ],
   "source": [
    "d2_json"
   ]
  },
  {
   "cell_type": "code",
   "execution_count": 50,
   "metadata": {},
   "outputs": [
    {
     "name": "stdout",
     "output_type": "stream",
     "text": [
      "{\"name\": \"Kroos\", \"age\": 32, \"score\": 150}\n"
     ]
    }
   ],
   "source": [
    "with open('dump_json.txt', 'r') as f:\n",
    "    print(f.read())"
   ]
  },
  {
   "cell_type": "markdown",
   "metadata": {},
   "source": [
    "## 反序列化操作"
   ]
  },
  {
   "cell_type": "code",
   "execution_count": 52,
   "metadata": {},
   "outputs": [
    {
     "data": {
      "text/plain": [
       "{'age': 32, 'name': 'Kroos', 'score': 150}"
      ]
     },
     "execution_count": 52,
     "metadata": {},
     "output_type": "execute_result"
    }
   ],
   "source": [
    "# 调用json模块中的loads()函数进行反序列化处理\n",
    "json.loads(d2_json)"
   ]
  },
  {
   "cell_type": "code",
   "execution_count": 53,
   "metadata": {},
   "outputs": [
    {
     "name": "stdout",
     "output_type": "stream",
     "text": [
      "Name is Kroos.\n"
     ]
    }
   ],
   "source": [
    "# 从之前序列化得到的dump_json.txt文件中读取内容\n",
    "\n",
    "with open('dump_json.txt', 'r') as f:\n",
    "    d1_unjson = json.load(f)\n",
    "    \n",
    "print('Name is %s.' % d2_unjson['name'])"
   ]
  },
  {
   "cell_type": "code",
   "execution_count": null,
   "metadata": {},
   "outputs": [],
   "source": []
  }
 ],
 "metadata": {
  "kernelspec": {
   "display_name": "Python 3",
   "language": "python",
   "name": "python3"
  },
  "language_info": {
   "codemirror_mode": {
    "name": "ipython",
    "version": 3
   },
   "file_extension": ".py",
   "mimetype": "text/x-python",
   "name": "python",
   "nbconvert_exporter": "python",
   "pygments_lexer": "ipython3",
   "version": "3.6.4"
  }
 },
 "nbformat": 4,
 "nbformat_minor": 2
}
