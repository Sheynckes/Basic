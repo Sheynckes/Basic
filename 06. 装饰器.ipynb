{
 "cells": [
  {
   "cell_type": "markdown",
   "metadata": {},
   "source": [
    "# 引言\n",
    "\n",
    "装饰器就是对函数的『包装』，即如果在定义函数的时候指定了使用某个装饰器对其进行『包装』，则在运行该函数时，还会同时执行装饰器中的命令或完成装饰器中的任务。\n",
    "\n",
    "可以通过高阶函数来实现，也可以通过类来实现。通过类来实现装饰器看起来比通过高级函数来实现装饰器更加清晰。"
   ]
  },
  {
   "cell_type": "markdown",
   "metadata": {},
   "source": [
    "# 通过高级函数实现装饰器"
   ]
  },
  {
   "cell_type": "code",
   "execution_count": 7,
   "metadata": {},
   "outputs": [
    {
     "name": "stdout",
     "output_type": "stream",
     "text": [
      "Hello, foo.\n",
      "I am foo.\n",
      "Goodbye, foo.\n"
     ]
    }
   ],
   "source": [
    "# 一个简单的例子\n",
    "\n",
    "def hello(fn):\n",
    "    def wrapper():\n",
    "        print(\"Hello, %s.\" % fn.__name__)\n",
    "        fn()\n",
    "        print(\"Goodbye, %s.\" % fn.__name__)\n",
    "    return wrapper\n",
    "\n",
    "@hello\n",
    "def foo():\n",
    "    print('I am foo.')\n",
    "    \n",
    "foo()"
   ]
  },
  {
   "cell_type": "code",
   "execution_count": 8,
   "metadata": {},
   "outputs": [
    {
     "name": "stdout",
     "output_type": "stream",
     "text": [
      "<b class='hold_css'><i class='italic_css'>Hello World!</i></b>\n"
     ]
    }
   ],
   "source": [
    "# 一个网页编程的例子\n",
    "\n",
    "def makeHtmlTag(tag, *args, **kwds):\n",
    "    def real_decorator(fn):\n",
    "        css_class = \" class='{0}'\".format(kwds[\"css_class\"]) if \"css_class\" in kwds else \"\"\n",
    "        def wrapped(*args, **kwds):\n",
    "            return \"<\" + tag + css_class + \">\" + fn(*args, **kwds) + \"</\" + tag + \">\"\n",
    "        return wrapped\n",
    "    return real_decorator\n",
    "\n",
    "@makeHtmlTag(tag=\"b\", css_class=\"hold_css\")\n",
    "@makeHtmlTag(tag=\"i\", css_class='italic_css')\n",
    "def hello():\n",
    "    return \"Hello World!\"\n",
    "\n",
    "print(hello())"
   ]
  },
  {
   "cell_type": "markdown",
   "metadata": {},
   "source": [
    "# 通过类实现装饰器"
   ]
  },
  {
   "cell_type": "code",
   "execution_count": 11,
   "metadata": {},
   "outputs": [
    {
     "name": "stdout",
     "output_type": "stream",
     "text": [
      "Inside MyDecorator.__init__()\n",
      "Finished my_func()\n",
      "Inside my_func()\n",
      "Inside MyDecorator.__call__()\n"
     ]
    }
   ],
   "source": [
    "# 一个简单的例子\n",
    "\n",
    "class MyDecorator(object):\n",
    "    def __init__(self, fn):\n",
    "        print('Inside MyDecorator.__init__()')\n",
    "        self.fn = fn\n",
    "        \n",
    "    def __call__(self):\n",
    "        self.fn()\n",
    "        print('Inside MyDecorator.__call__()')\n",
    "        \n",
    "        \n",
    "@MyDecorator\n",
    "def my_func():\n",
    "    print('Inside my_func()')\n",
    "    \n",
    "print('Finished my_func()')\n",
    "\n",
    "my_func()"
   ]
  },
  {
   "cell_type": "code",
   "execution_count": 20,
   "metadata": {},
   "outputs": [
    {
     "name": "stdout",
     "output_type": "stream",
     "text": [
      "<b class='hold_css'><i class='italic_css'>Hello Sean!</i></b>\n",
      "wrapped\n"
     ]
    }
   ],
   "source": [
    "# 一个网页编程的例子\n",
    "\n",
    "class Make_HTML_Tag(object):\n",
    "    def __init__(self, tag, css_class=''):\n",
    "        self._tag = tag\n",
    "        self._css_class = \" class='{0}'\".format(css_class) if css_class != \"\" else \"\"\n",
    "        \n",
    "    def __call__(self, fn):\n",
    "        def wrapped(*args, **kwds):\n",
    "            return \"<\" + self._tag + self._css_class + \">\" + fn(*args, **kwds) + \"</\" + self._tag + \">\"\n",
    "        return wrapped\n",
    "    \n",
    "@Make_HTML_Tag(tag=\"b\", css_class=\"hold_css\")\n",
    "@Make_HTML_Tag(tag=\"i\", css_class='italic_css')\n",
    "def hello(name):\n",
    "    return \"Hello %s!\" % name\n",
    "\n",
    "print(hello('Sean'))"
   ]
  },
  {
   "cell_type": "markdown",
   "metadata": {},
   "source": [
    "# 装饰器的副作用\n",
    "\n",
    "由于decorator的因素，实际被调用的函数已经变成了一个叫做`wrapped()`的函数。比如当我们调用`print(hello.__name__)`查看`hello()`函数名字的时候，将会返回`wrapped`，而不是`hello`。\n",
    "\n",
    "Python的`functools`包中提供了一个名为`wraps`的装饰器来消除这种附着用。"
   ]
  },
  {
   "cell_type": "code",
   "execution_count": 21,
   "metadata": {},
   "outputs": [
    {
     "name": "stdout",
     "output_type": "stream",
     "text": [
      "wrapped\n"
     ]
    }
   ],
   "source": [
    "print(hello.__name__)"
   ]
  },
  {
   "cell_type": "code",
   "execution_count": 23,
   "metadata": {},
   "outputs": [
    {
     "name": "stdout",
     "output_type": "stream",
     "text": [
      "Hello, foo!\n",
      "This is foo().\n",
      "Hello, foo!\n",
      "foo\n",
      "foo help documentation\n"
     ]
    }
   ],
   "source": [
    "# 一个简单的例子\n",
    "\n",
    "from functools import wraps\n",
    "\n",
    "def hello(fn):\n",
    "    @wraps(fn)\n",
    "    def wrapped():\n",
    "        print('Hello, %s!' % fn.__name__)\n",
    "        fn()\n",
    "        print('Hello, %s!' % fn.__name__)\n",
    "    return wrapped\n",
    "\n",
    "@hello\n",
    "def foo():\n",
    "    '''foo help documentation'''\n",
    "    print('This is foo().')\n",
    "    \n",
    "foo()\n",
    "print(foo.__name__)\n",
    "print(foo.__doc__)"
   ]
  },
  {
   "cell_type": "markdown",
   "metadata": {},
   "source": [
    "# 利用装饰器实现斐波那契数列"
   ]
  },
  {
   "cell_type": "code",
   "execution_count": 26,
   "metadata": {},
   "outputs": [
    {
     "ename": "AttributeError",
     "evalue": "'int' object has no attribute '__module__'",
     "output_type": "error",
     "traceback": [
      "\u001b[0;31m---------------------------------------------------------------------------\u001b[0m",
      "\u001b[0;31mAttributeError\u001b[0m                            Traceback (most recent call last)",
      "\u001b[0;32m<ipython-input-26-176742e56608>\u001b[0m in \u001b[0;36m<module>\u001b[0;34m()\u001b[0m\n\u001b[1;32m     20\u001b[0m     \u001b[0;32mreturn\u001b[0m \u001b[0mfib\u001b[0m\u001b[0;34m(\u001b[0m\u001b[0mn\u001b[0m\u001b[0;34m-\u001b[0m\u001b[0;36m1\u001b[0m\u001b[0;34m)\u001b[0m \u001b[0;34m+\u001b[0m \u001b[0mfib\u001b[0m\u001b[0;34m(\u001b[0m\u001b[0mn\u001b[0m\u001b[0;34m-\u001b[0m\u001b[0;36m2\u001b[0m\u001b[0;34m)\u001b[0m\u001b[0;34m\u001b[0m\u001b[0m\n\u001b[1;32m     21\u001b[0m \u001b[0;34m\u001b[0m\u001b[0m\n\u001b[0;32m---> 22\u001b[0;31m \u001b[0mfib\u001b[0m\u001b[0;34m(\u001b[0m\u001b[0;36m5\u001b[0m\u001b[0;34m)\u001b[0m\u001b[0;34m\u001b[0m\u001b[0m\n\u001b[0m",
      "\u001b[0;32m~/anaconda3/lib/python3.6/functools.py\u001b[0m in \u001b[0;36mupdate_wrapper\u001b[0;34m(wrapper, wrapped, assigned, updated)\u001b[0m\n\u001b[1;32m     63\u001b[0m             \u001b[0;32mpass\u001b[0m\u001b[0;34m\u001b[0m\u001b[0m\n\u001b[1;32m     64\u001b[0m         \u001b[0;32melse\u001b[0m\u001b[0;34m:\u001b[0m\u001b[0;34m\u001b[0m\u001b[0m\n\u001b[0;32m---> 65\u001b[0;31m             \u001b[0msetattr\u001b[0m\u001b[0;34m(\u001b[0m\u001b[0mwrapper\u001b[0m\u001b[0;34m,\u001b[0m \u001b[0mattr\u001b[0m\u001b[0;34m,\u001b[0m \u001b[0mvalue\u001b[0m\u001b[0;34m)\u001b[0m\u001b[0;34m\u001b[0m\u001b[0m\n\u001b[0m\u001b[1;32m     66\u001b[0m     \u001b[0;32mfor\u001b[0m \u001b[0mattr\u001b[0m \u001b[0;32min\u001b[0m \u001b[0mupdated\u001b[0m\u001b[0;34m:\u001b[0m\u001b[0;34m\u001b[0m\u001b[0m\n\u001b[1;32m     67\u001b[0m         \u001b[0mgetattr\u001b[0m\u001b[0;34m(\u001b[0m\u001b[0mwrapper\u001b[0m\u001b[0;34m,\u001b[0m \u001b[0mattr\u001b[0m\u001b[0;34m)\u001b[0m\u001b[0;34m.\u001b[0m\u001b[0mupdate\u001b[0m\u001b[0;34m(\u001b[0m\u001b[0mgetattr\u001b[0m\u001b[0;34m(\u001b[0m\u001b[0mwrapped\u001b[0m\u001b[0;34m,\u001b[0m \u001b[0mattr\u001b[0m\u001b[0;34m,\u001b[0m \u001b[0;34m{\u001b[0m\u001b[0;34m}\u001b[0m\u001b[0;34m)\u001b[0m\u001b[0;34m)\u001b[0m\u001b[0;34m\u001b[0m\u001b[0m\n",
      "\u001b[0;31mAttributeError\u001b[0m: 'int' object has no attribute '__module__'"
     ]
    }
   ],
   "source": [
    "from functools import wraps\n",
    "\n",
    "def memo(fn):\n",
    "    cache = {}\n",
    "    miss = object()\n",
    "    \n",
    "    @wraps\n",
    "    def wrapped(*args):\n",
    "        result = cache.get(args, miss)\n",
    "        if result is miss:\n",
    "            result = fn(*args)\n",
    "            cache[args] = result\n",
    "        return result\n",
    "    return wrapped\n",
    "\n",
    "@memo\n",
    "def fib(n):\n",
    "    if n < 2:\n",
    "        return n\n",
    "    return fib(n-1) + fib(n-2)\n",
    "\n",
    "fib(5)"
   ]
  },
  {
   "cell_type": "markdown",
   "metadata": {},
   "source": [
    "# Property属性\n",
    "\n",
    "可以利用Property属性实现对变量读写的检查。"
   ]
  },
  {
   "cell_type": "code",
   "execution_count": 32,
   "metadata": {},
   "outputs": [
    {
     "name": "stdout",
     "output_type": "stream",
     "text": [
      "75\n"
     ]
    }
   ],
   "source": [
    "import traceback\n",
    "\n",
    "class Student(object):\n",
    "    @property\n",
    "    def score(self):\n",
    "        # 实现score的读取功能 (getter方法)\n",
    "        return self._score\n",
    "    \n",
    "    @score.setter\n",
    "    def score(self, value):\n",
    "        # 实现score的写入功能 (setter方法)\n",
    "        if not isinstance(value, int):\n",
    "            raise ValueError('not int')\n",
    "        elif (value<0) or (value>100):\n",
    "            raise ValueError('not between 0~100')\n",
    "        self._score = value\n",
    "        \n",
    "    @property\n",
    "    def double_score(self):\n",
    "        # 这是一个只读属性，因为没有定义对应的setter方法\n",
    "        # 相反，score是一个读写属性\n",
    "        return self._score * 2\n",
    "        \n",
    "s = Student()\n",
    "s.score = 75\n",
    "print(s.score)"
   ]
  },
  {
   "cell_type": "code",
   "execution_count": 30,
   "metadata": {},
   "outputs": [
    {
     "name": "stderr",
     "output_type": "stream",
     "text": [
      "Traceback (most recent call last):\n",
      "  File \"<ipython-input-30-628b0c99a40c>\", line 2, in <module>\n",
      "    s.score = 'abc'\n",
      "  File \"<ipython-input-27-39a7d47ba68e>\", line 11, in score\n",
      "    raise ValueError('not int')\n",
      "ValueError: not int\n"
     ]
    }
   ],
   "source": [
    "try:\n",
    "    s.score = 'abc'\n",
    "except ValueError:\n",
    "    traceback.print_exc()"
   ]
  },
  {
   "cell_type": "code",
   "execution_count": 31,
   "metadata": {},
   "outputs": [
    {
     "name": "stderr",
     "output_type": "stream",
     "text": [
      "Traceback (most recent call last):\n",
      "  File \"<ipython-input-31-78e9c06cbd36>\", line 2, in <module>\n",
      "    s.score = 108\n",
      "  File \"<ipython-input-27-39a7d47ba68e>\", line 13, in score\n",
      "    raise ValueError('not between 0~100')\n",
      "ValueError: not between 0~100\n"
     ]
    }
   ],
   "source": [
    "try:\n",
    "    s.score = 108\n",
    "except ValueError:\n",
    "    traceback.print_exc()"
   ]
  },
  {
   "cell_type": "code",
   "execution_count": 35,
   "metadata": {},
   "outputs": [
    {
     "name": "stdout",
     "output_type": "stream",
     "text": [
      "150\n"
     ]
    },
    {
     "name": "stderr",
     "output_type": "stream",
     "text": [
      "Traceback (most recent call last):\n",
      "  File \"<ipython-input-35-64c039902399>\", line 5, in <module>\n",
      "    s.double_score = 160\n",
      "AttributeError: can't set attribute\n"
     ]
    }
   ],
   "source": [
    "# double_score是一个只读属性\n",
    "print(s.double_score)\n",
    "\n",
    "try:\n",
    "    s.double_score = 160\n",
    "except AttributeError:\n",
    "    traceback.print_exc()"
   ]
  },
  {
   "cell_type": "markdown",
   "metadata": {},
   "source": [
    "## Property属性的实现\n",
    "\n",
    "以下代码利用描述器近似实现Property属性的基本功能。简单而言，如果一个类中实现了`__set__()`、`__get__()`、`__del__()`方法，则称这个类为一个**描述器**。"
   ]
  },
  {
   "cell_type": "code",
   "execution_count": 48,
   "metadata": {},
   "outputs": [
    {
     "name": "stdout",
     "output_type": "stream",
     "text": [
      "__set__\n",
      "__get__\n",
      "95\n"
     ]
    }
   ],
   "source": [
    "# 实现MyProperty\n",
    "class MyProperty(object):\n",
    "    def __init__(self, fget=None, fset=None, fdel = None):\n",
    "        self.fget = fget\n",
    "        self.fset = fset\n",
    "        self.fdel = fdel\n",
    "        \n",
    "    def __get__(self, instance, cls):\n",
    "        if self.fget:\n",
    "            print('__get__')\n",
    "            return self.fget(instance)\n",
    "            \n",
    "    def __set__(self, instance, value):\n",
    "        if self.fset:\n",
    "            print('__set__')\n",
    "            return self.fset(instance, value)\n",
    "            \n",
    "    def __del__(self, instance):\n",
    "        if self.fdel:\n",
    "            return self.fdel(instance)\n",
    "            \n",
    "    def getter(self, fn):\n",
    "        self.fget = fn\n",
    "        \n",
    "    def setter(self, fn):\n",
    "        self.fset = fn\n",
    "        \n",
    "    def deler(self, fn):\n",
    "        self.fdel = fn\n",
    "\n",
    "class Student(object):\n",
    "    @MyProperty\n",
    "    def score(self):\n",
    "        return self._score\n",
    "    \n",
    "    @score.setter\n",
    "    def set_score(self, value):\n",
    "        self._score = value\n",
    "        \n",
    "    \n",
    "s = Student()\n",
    "s.score = 95\n",
    "print(s.score)"
   ]
  },
  {
   "cell_type": "code",
   "execution_count": null,
   "metadata": {},
   "outputs": [],
   "source": []
  }
 ],
 "metadata": {
  "kernelspec": {
   "display_name": "Python 3",
   "language": "python",
   "name": "python3"
  },
  "language_info": {
   "codemirror_mode": {
    "name": "ipython",
    "version": 3
   },
   "file_extension": ".py",
   "mimetype": "text/x-python",
   "name": "python",
   "nbconvert_exporter": "python",
   "pygments_lexer": "ipython3",
   "version": "3.6.4"
  }
 },
 "nbformat": 4,
 "nbformat_minor": 2
}
