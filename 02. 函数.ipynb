{
 "cells": [
  {
   "cell_type": "markdown",
   "metadata": {},
   "source": [
    "# 命名关键字参数\n",
    "\n",
    "函数声明时，`*`后面的参数在调用时必须指定参数名。"
   ]
  },
  {
   "cell_type": "code",
   "execution_count": 5,
   "metadata": {},
   "outputs": [
    {
     "ename": "TypeError",
     "evalue": "func() takes 3 positional arguments but 5 were given",
     "output_type": "error",
     "traceback": [
      "\u001b[0;31m---------------------------------------------------------------------------\u001b[0m",
      "\u001b[0;31mTypeError\u001b[0m                                 Traceback (most recent call last)",
      "\u001b[0;32m<ipython-input-5-823120137ddf>\u001b[0m in \u001b[0;36m<module>\u001b[0;34m()\u001b[0m\n\u001b[1;32m      2\u001b[0m     \u001b[0mprint\u001b[0m\u001b[0;34m(\u001b[0m\u001b[0mchina\u001b[0m\u001b[0;34m,\u001b[0m \u001b[0mUK\u001b[0m\u001b[0;34m)\u001b[0m\u001b[0;34m\u001b[0m\u001b[0m\n\u001b[1;32m      3\u001b[0m \u001b[0;34m\u001b[0m\u001b[0m\n\u001b[0;32m----> 4\u001b[0;31m \u001b[0mfunc\u001b[0m\u001b[0;34m(\u001b[0m\u001b[0;36m1\u001b[0m\u001b[0;34m,\u001b[0m \u001b[0;36m2\u001b[0m\u001b[0;34m,\u001b[0m \u001b[0;36m3\u001b[0m\u001b[0;34m,\u001b[0m \u001b[0;34m'BJ'\u001b[0m\u001b[0;34m,\u001b[0m \u001b[0;34m'LD'\u001b[0m\u001b[0;34m)\u001b[0m\u001b[0;34m\u001b[0m\u001b[0m\n\u001b[0m",
      "\u001b[0;31mTypeError\u001b[0m: func() takes 3 positional arguments but 5 were given"
     ]
    }
   ],
   "source": [
    "def func(a, b, c, *, china, UK):\n",
    "    print(china, UK)\n",
    "\n",
    "func(1, 2, 3, 'BJ', 'LD')"
   ]
  },
  {
   "cell_type": "code",
   "execution_count": 6,
   "metadata": {},
   "outputs": [
    {
     "name": "stdout",
     "output_type": "stream",
     "text": [
      "BJ LD\n"
     ]
    }
   ],
   "source": [
    "func(1, 2, 3, china='BJ', UK='LD')"
   ]
  },
  {
   "cell_type": "markdown",
   "metadata": {},
   "source": [
    "# 参数的顺序"
   ]
  },
  {
   "cell_type": "code",
   "execution_count": 8,
   "metadata": {},
   "outputs": [
    {
     "name": "stdout",
     "output_type": "stream",
     "text": [
      "1 2 0\n",
      "()\n",
      "{}\n",
      "1 2 3\n",
      "()\n",
      "{}\n",
      "1 2 3\n",
      "('a', 'b', 'c')\n",
      "{}\n",
      "1 2 3\n",
      "('a', 'b', 'c')\n",
      "{'china': 'BJ', 'uk': 'LD'}\n",
      "1 2 3\n",
      "('a', 'b')\n",
      "{'china': 'BJ', 'uk': 'LD'}\n"
     ]
    }
   ],
   "source": [
    "def func(a, b, c=0, *args, **kvs):\n",
    "    print(a, b, c)\n",
    "    print(args)\n",
    "    print(kvs)\n",
    "    \n",
    "func(1, 2)\n",
    "func(1, 2, 3)\n",
    "func(1, 2, 3, 'a', 'b', 'c')\n",
    "func(1, 2, 3, 'a', 'b', 'c', china='BJ', uk='LD')\n",
    "func(1, 2, 3, *('a', 'b'), **{'china': 'BJ', 'uk': 'LD'})"
   ]
  },
  {
   "cell_type": "markdown",
   "metadata": {},
   "source": [
    "# 函数作为参数"
   ]
  },
  {
   "cell_type": "code",
   "execution_count": 1,
   "metadata": {},
   "outputs": [
    {
     "name": "stdout",
     "output_type": "stream",
     "text": [
      "300\n"
     ]
    },
    {
     "data": {
      "text/plain": [
       "300"
      ]
     },
     "execution_count": 1,
     "metadata": {},
     "output_type": "execute_result"
    }
   ],
   "source": [
    "def sum(x, y, p=None):\n",
    "    s = x + y\n",
    "    if p:\n",
    "        p(s)\n",
    "    return s\n",
    "\n",
    "sum(100, 200)\n",
    "sum(100, 200, print)"
   ]
  },
  {
   "cell_type": "code",
   "execution_count": 4,
   "metadata": {},
   "outputs": [
    {
     "name": "stdout",
     "output_type": "stream",
     "text": [
      "-1\n",
      "1\n"
     ]
    }
   ],
   "source": [
    "def cmp(x, y, cp=None):\n",
    "    if not cp:\n",
    "        if x < y:\n",
    "            return -1\n",
    "        elif x > y:\n",
    "            return 1\n",
    "        else:\n",
    "            return 0\n",
    "    else:\n",
    "        return cp(x, y)\n",
    "        \n",
    "def my_cmp(x, y):\n",
    "    if x < y:\n",
    "        return 1\n",
    "    elif x > y:\n",
    "        return -1\n",
    "    else:\n",
    "        return 0\n",
    "    \n",
    "print(cmp(100, 200))\n",
    "print(cmp(100, 200, my_cmp))"
   ]
  },
  {
   "cell_type": "code",
   "execution_count": 1,
   "metadata": {},
   "outputs": [
    {
     "name": "stdout",
     "output_type": "stream",
     "text": [
      "10\n"
     ]
    }
   ],
   "source": [
    "def do_sum(data, method):\n",
    "    return method(data)\n",
    "\n",
    "print(do_sum([1, 2, 3, 4], sum))"
   ]
  },
  {
   "cell_type": "markdown",
   "metadata": {},
   "source": [
    "# 递归"
   ]
  },
  {
   "cell_type": "code",
   "execution_count": 2,
   "metadata": {},
   "outputs": [
    {
     "name": "stdout",
     "output_type": "stream",
     "text": [
      "1\n",
      "3\n",
      "6\n",
      "10\n",
      "5050\n"
     ]
    }
   ],
   "source": [
    "# 求和\n",
    "\n",
    "def my_sum(i):\n",
    "    if i < 0:\n",
    "        raise ValueError\n",
    "    elif i <= 1:\n",
    "        return i\n",
    "    else:\n",
    "        return i + my_sum(i-1)\n",
    "    \n",
    "print(my_sum(1))\n",
    "print(my_sum(2))\n",
    "print(my_sum(3))\n",
    "print(my_sum(4))\n",
    "print(my_sum(100))"
   ]
  },
  {
   "cell_type": "code",
   "execution_count": 3,
   "metadata": {},
   "outputs": [
    {
     "name": "stdout",
     "output_type": "stream",
     "text": [
      "1\n",
      "1\n",
      "2\n",
      "3\n",
      "5\n",
      "8\n",
      "13\n",
      "21\n"
     ]
    }
   ],
   "source": [
    "# 斐波那契数列\n",
    "\n",
    "def fib(n):\n",
    "    if n < 1:\n",
    "        raise ValueError\n",
    "    elif n <= 2:\n",
    "        return 1\n",
    "    else:\n",
    "        return fib(n - 1) + fib(n - 2)\n",
    "    \n",
    "print(fib(1))\n",
    "print(fib(2))\n",
    "print(fib(3))\n",
    "print(fib(4))\n",
    "print(fib(5))\n",
    "print(fib(6))\n",
    "print(fib(7))\n",
    "print(fib(8))"
   ]
  },
  {
   "cell_type": "code",
   "execution_count": 4,
   "metadata": {},
   "outputs": [
    {
     "name": "stdout",
     "output_type": "stream",
     "text": [
      "A -> C\n",
      "A -> B\n",
      "C -> B\n",
      "A -> C\n",
      "B -> A\n",
      "B -> C\n",
      "A -> C\n",
      "A -> B\n",
      "C -> B\n",
      "C -> A\n",
      "B -> A\n",
      "C -> B\n",
      "A -> C\n",
      "A -> B\n",
      "C -> B\n"
     ]
    }
   ],
   "source": [
    "# 汉诺塔\n",
    "\n",
    "def hanoi(n, source, target, helper):\n",
    "    if n == 1:\n",
    "        print(source + ' -> ' + target)\n",
    "    else:\n",
    "        hanoi(n-1, source, helper, target)\n",
    "        print(source + ' -> ' + target)\n",
    "        hanoi(n-1, helper, target, source)\n",
    "\n",
    "hanoi(4, 'A', 'B', 'C')"
   ]
  },
  {
   "cell_type": "markdown",
   "metadata": {},
   "source": [
    "# 函数式编程\n",
    "\n",
    "## 高阶函数\n",
    "\n",
    "可以把别的函数作为参数传入的函数叫做**高阶函数**。"
   ]
  },
  {
   "cell_type": "code",
   "execution_count": 1,
   "metadata": {},
   "outputs": [
    {
     "data": {
      "text/plain": [
       "11"
      ]
     },
     "execution_count": 1,
     "metadata": {},
     "output_type": "execute_result"
    }
   ],
   "source": [
    "def add(x, y, func):\n",
    "    return func(x) + func(y)\n",
    "\n",
    "add(-5, 6, abs)"
   ]
  },
  {
   "cell_type": "markdown",
   "metadata": {},
   "source": [
    "## 匿名函数——`lambda`\n",
    "\n",
    "- `lambda`的主体只是一个表达式，而不是一个代码块，其函数体比`def`定义的函数简单很多，只能在`lambda`表达式中封装有限的逻辑。\n",
    "- `lambda`函数拥有自己的命名空间，但不能访问自有参数列表以外的参数或全局命名空间中的参数。"
   ]
  },
  {
   "cell_type": "code",
   "execution_count": 2,
   "metadata": {},
   "outputs": [
    {
     "data": {
      "text/plain": [
       "30"
      ]
     },
     "execution_count": 2,
     "metadata": {},
     "output_type": "execute_result"
    }
   ],
   "source": [
    "sum = lambda arg1, arg2: arg1 + arg2\n",
    "sum(10, 20)"
   ]
  },
  {
   "cell_type": "markdown",
   "metadata": {},
   "source": [
    "## `reduce()`函数\n",
    "\n",
    "`reduce()`函数是一个二元操作函数，它用来将一个数据集合（列表、元组等）中的所有数据进行如下操作：先将数据集合中的第1、2个数据传给`reduce()`中的函数func（必须是一个二元操作函数）进行处理，得到的结果在与第3个数据一起传给函数func进行处理，直到完成对整个数据集合的操作，得到最终的输出结果。\n",
    "\n",
    "Python3中，`reduce()`函数位于`functools`模块中。"
   ]
  },
  {
   "cell_type": "code",
   "execution_count": 19,
   "metadata": {},
   "outputs": [
    {
     "name": "stdout",
     "output_type": "stream",
     "text": [
      "15\n"
     ]
    }
   ],
   "source": [
    "from functools import reduce\n",
    "\n",
    "li_reduce = [1, 2, 3, 4, 5]\n",
    "print(reduce(lambda arg1, arg2: arg1 + arg2, li_reduce))"
   ]
  },
  {
   "cell_type": "markdown",
   "metadata": {},
   "source": [
    "也可以为`reduce()`函数提供一个初始值（放在数据集合后面）。"
   ]
  },
  {
   "cell_type": "code",
   "execution_count": 20,
   "metadata": {},
   "outputs": [
    {
     "name": "stdout",
     "output_type": "stream",
     "text": [
      "25\n"
     ]
    }
   ],
   "source": [
    "print(reduce(lambda arg1, arg2: arg1 + arg2, li_reduce, 10))"
   ]
  },
  {
   "cell_type": "markdown",
   "metadata": {},
   "source": [
    "## `map()`函数\n",
    "\n",
    "`map()`函数接受两个参数，一个是函数func，一个是序列，将其中的函数func依次作用于序列中的每一个数据。"
   ]
  },
  {
   "cell_type": "code",
   "execution_count": 21,
   "metadata": {},
   "outputs": [
    {
     "name": "stdout",
     "output_type": "stream",
     "text": [
      "<map object at 0x10a74e5f8>\n"
     ]
    }
   ],
   "source": [
    "li_map = [1, 2, 3]\n",
    "new_li = map(lambda i: i+1, li_map)\n",
    "print(new_li)"
   ]
  },
  {
   "cell_type": "code",
   "execution_count": 23,
   "metadata": {},
   "outputs": [
    {
     "name": "stdout",
     "output_type": "stream",
     "text": [
      "[2, 3, 4]\n"
     ]
    }
   ],
   "source": [
    "new_li = list(map(lambda i: i+1, li_map))\n",
    "print(new_li)"
   ]
  },
  {
   "cell_type": "code",
   "execution_count": 24,
   "metadata": {
    "scrolled": true
   },
   "outputs": [
    {
     "name": "stdout",
     "output_type": "stream",
     "text": [
      "2\n",
      "3\n",
      "4\n"
     ]
    }
   ],
   "source": [
    "for j in map(lambda i: i+1, li_map):\n",
    "    print(j)"
   ]
  },
  {
   "cell_type": "markdown",
   "metadata": {},
   "source": [
    "`map()`函数也可以对多个序列进行操作。"
   ]
  },
  {
   "cell_type": "code",
   "execution_count": 28,
   "metadata": {},
   "outputs": [
    {
     "name": "stdout",
     "output_type": "stream",
     "text": [
      "[5, 7, 9]\n"
     ]
    }
   ],
   "source": [
    "li_map_1 = [1, 2, 3]\n",
    "li_map_2 = [4, 5, 6]\n",
    "new_li = list(map(lambda arg1, arg2: arg1 + arg2, li_map_1, li_map_2))\n",
    "print(new_li)"
   ]
  },
  {
   "cell_type": "markdown",
   "metadata": {},
   "source": [
    "## `filter()`函数\n",
    "\n",
    "`filter()`函数可以对序列进行过滤处理，即可以使用一个自定义的函数对一个序列进行过滤，把序列的每一个数据传给自定义的过滤函数中进行处理，并返回满足过滤条件的结果。"
   ]
  },
  {
   "cell_type": "code",
   "execution_count": 29,
   "metadata": {},
   "outputs": [
    {
     "name": "stdout",
     "output_type": "stream",
     "text": [
      "[20, 24]\n"
     ]
    }
   ],
   "source": [
    "li_filter = [100, 20, 24, 50, 110]\n",
    "new_li = list(filter(lambda x: x<50, li_filter))\n",
    "print(new_li)"
   ]
  },
  {
   "cell_type": "markdown",
   "metadata": {},
   "source": [
    "# 偏函数\n",
    "\n",
    "偏函数的作用就是固定一个函数中的某些参数（即设定这些参数的默认值），并返回一个新的函数，调用这个新函数会更简单。"
   ]
  },
  {
   "cell_type": "code",
   "execution_count": 1,
   "metadata": {},
   "outputs": [
    {
     "data": {
      "text/plain": [
       "12345"
      ]
     },
     "execution_count": 1,
     "metadata": {},
     "output_type": "execute_result"
    }
   ],
   "source": [
    "int('12345')"
   ]
  },
  {
   "cell_type": "code",
   "execution_count": 2,
   "metadata": {},
   "outputs": [
    {
     "data": {
      "text/plain": [
       "5349"
      ]
     },
     "execution_count": 2,
     "metadata": {},
     "output_type": "execute_result"
    }
   ],
   "source": [
    "int('12345', base=8)"
   ]
  },
  {
   "cell_type": "code",
   "execution_count": 3,
   "metadata": {},
   "outputs": [
    {
     "data": {
      "text/plain": [
       "74565"
      ]
     },
     "execution_count": 3,
     "metadata": {},
     "output_type": "execute_result"
    }
   ],
   "source": [
    "int('12345', base=16)"
   ]
  },
  {
   "cell_type": "code",
   "execution_count": 17,
   "metadata": {},
   "outputs": [
    {
     "data": {
      "text/plain": [
       "18"
      ]
     },
     "execution_count": 17,
     "metadata": {},
     "output_type": "execute_result"
    }
   ],
   "source": [
    "# 可以通过参数定义来实现\n",
    "\n",
    "kw = {'base': 2}\n",
    "int('10010', **kw)"
   ]
  },
  {
   "cell_type": "code",
   "execution_count": 19,
   "metadata": {},
   "outputs": [
    {
     "data": {
      "text/plain": [
       "18"
      ]
     },
     "execution_count": 19,
     "metadata": {},
     "output_type": "execute_result"
    }
   ],
   "source": [
    "# 可以自定义函数\n",
    "\n",
    "def int2(x, base=2):\n",
    "    return int(x, base)\n",
    "\n",
    "int2('10010')"
   ]
  },
  {
   "cell_type": "code",
   "execution_count": 20,
   "metadata": {},
   "outputs": [
    {
     "data": {
      "text/plain": [
       "18"
      ]
     },
     "execution_count": 20,
     "metadata": {},
     "output_type": "execute_result"
    }
   ],
   "source": [
    "# 也可以利用偏函数\n",
    "\n",
    "from functools import partial\n",
    "\n",
    "int2 = partial(int, base=2)\n",
    "int2('10010')"
   ]
  },
  {
   "cell_type": "code",
   "execution_count": 11,
   "metadata": {},
   "outputs": [
    {
     "data": {
      "text/plain": [
       "10"
      ]
     },
     "execution_count": 11,
     "metadata": {},
     "output_type": "execute_result"
    }
   ],
   "source": [
    "my_max = partial(max, 10)\n",
    "my_max(5, 6, 7)"
   ]
  },
  {
   "cell_type": "code",
   "execution_count": 14,
   "metadata": {},
   "outputs": [
    {
     "data": {
      "text/plain": [
       "10"
      ]
     },
     "execution_count": 14,
     "metadata": {},
     "output_type": "execute_result"
    }
   ],
   "source": [
    "args = [10, 5, 6, 7]\n",
    "max(*args)"
   ]
  },
  {
   "cell_type": "code",
   "execution_count": null,
   "metadata": {},
   "outputs": [],
   "source": []
  }
 ],
 "metadata": {
  "kernelspec": {
   "display_name": "Python 3",
   "language": "python",
   "name": "python3"
  },
  "language_info": {
   "codemirror_mode": {
    "name": "ipython",
    "version": 3
   },
   "file_extension": ".py",
   "mimetype": "text/x-python",
   "name": "python",
   "nbconvert_exporter": "python",
   "pygments_lexer": "ipython3",
   "version": "3.6.4"
  }
 },
 "nbformat": 4,
 "nbformat_minor": 2
}
